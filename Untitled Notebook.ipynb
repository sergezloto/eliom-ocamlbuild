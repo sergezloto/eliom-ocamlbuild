{
 "cells": [
  {
   "cell_type": "code",
   "execution_count": 26,
   "metadata": {
    "collapsed": false
   },
   "outputs": [],
   "source": [
    "import gcp.bigquery as bq\n",
    "import pandas as pd\n",
    "import numpy as np\n"
   ]
  },
  {
   "cell_type": "code",
   "execution_count": 27,
   "metadata": {
    "collapsed": false
   },
   "outputs": [
    {
     "data": {
      "text/html": [
       "\n",
       "    <div class=\"bqsv\" id=\"15_146600431658\"></div>\n",
       "    <script>\n",
       "      require(['extensions/bigquery', 'element!15_146600431658', 'style!/static/extensions/bigquery.css'],\n",
       "        function(bq, dom) {\n",
       "          bq.renderSchema(dom, [{\"type\": \"TIMESTAMP\", \"name\": \"pickup_datetime\", \"mode\": \"NULLABLE\"}, {\"type\": \"TIMESTAMP\", \"name\": \"dropoff_datetime\", \"mode\": \"NULLABLE\"}, {\"type\": \"STRING\", \"name\": \"store_and_fwd_flag\", \"mode\": \"NULLABLE\"}, {\"type\": \"INTEGER\", \"name\": \"rate_code\", \"mode\": \"NULLABLE\"}, {\"type\": \"FLOAT\", \"name\": \"pickup_longitude\", \"mode\": \"NULLABLE\"}, {\"type\": \"FLOAT\", \"name\": \"pickup_latitude\", \"mode\": \"NULLABLE\"}, {\"type\": \"FLOAT\", \"name\": \"dropoff_longitude\", \"mode\": \"NULLABLE\"}, {\"type\": \"FLOAT\", \"name\": \"dropoff_latitude\", \"mode\": \"NULLABLE\"}, {\"type\": \"INTEGER\", \"name\": \"passenger_count\", \"mode\": \"NULLABLE\"}, {\"type\": \"FLOAT\", \"name\": \"trip_distance\", \"mode\": \"NULLABLE\"}, {\"type\": \"FLOAT\", \"name\": \"fare_amount\", \"mode\": \"NULLABLE\"}, {\"type\": \"FLOAT\", \"name\": \"extra\", \"mode\": \"NULLABLE\"}, {\"type\": \"FLOAT\", \"name\": \"mta_tax\", \"mode\": \"NULLABLE\"}, {\"type\": \"FLOAT\", \"name\": \"tip_amount\", \"mode\": \"NULLABLE\"}, {\"type\": \"FLOAT\", \"name\": \"tolls_amount\", \"mode\": \"NULLABLE\"}, {\"type\": \"FLOAT\", \"name\": \"ehail_fee\", \"mode\": \"NULLABLE\"}, {\"type\": \"FLOAT\", \"name\": \"total_amount\", \"mode\": \"NULLABLE\"}, {\"type\": \"INTEGER\", \"name\": \"payment_type\", \"mode\": \"NULLABLE\"}, {\"type\": \"FLOAT\", \"name\": \"distance_between_service\", \"mode\": \"NULLABLE\"}, {\"type\": \"INTEGER\", \"name\": \"time_between_service\", \"mode\": \"NULLABLE\"}, {\"type\": \"INTEGER\", \"name\": \"trip_type\", \"mode\": \"NULLABLE\"}]);\n",
       "        }\n",
       "      );\n",
       "    </script>\n",
       "    "
      ],
      "text/plain": [
       "<IPython.core.display.HTML object>"
      ]
     },
     "execution_count": 27,
     "metadata": {},
     "output_type": "execute_result"
    }
   ],
   "source": [
    "%%bigquery schema --table \"nyc-tlc:green.trips_2015\""
   ]
  },
  {
   "cell_type": "code",
   "execution_count": 29,
   "metadata": {
    "collapsed": true
   },
   "outputs": [],
   "source": [
    "%%sql --module taxiquery\n",
    "SELECT daynumber, COUNT(*) AS numtrips FROM\n",
    "    (SELECT DAYOFYEAR(pickup_datetime) AS daynumber FROM [nyc-tlc:green.trips_$YEAR])\n",
    "GROUP BY daynumber ORDER BY daynumber"
   ]
  },
  {
   "cell_type": "code",
   "execution_count": 30,
   "metadata": {
    "collapsed": false
   },
   "outputs": [
    {
     "data": {
      "text/html": [
       "<div>\n",
       "<table border=\"1\" class=\"dataframe\">\n",
       "  <thead>\n",
       "    <tr style=\"text-align: right;\">\n",
       "      <th></th>\n",
       "      <th>daynumber</th>\n",
       "      <th>numtrips</th>\n",
       "    </tr>\n",
       "  </thead>\n",
       "  <tbody>\n",
       "    <tr>\n",
       "      <th>0</th>\n",
       "      <td>1</td>\n",
       "      <td>62943</td>\n",
       "    </tr>\n",
       "    <tr>\n",
       "      <th>1</th>\n",
       "      <td>2</td>\n",
       "      <td>43410</td>\n",
       "    </tr>\n",
       "    <tr>\n",
       "      <th>2</th>\n",
       "      <td>3</td>\n",
       "      <td>53866</td>\n",
       "    </tr>\n",
       "    <tr>\n",
       "      <th>3</th>\n",
       "      <td>4</td>\n",
       "      <td>41602</td>\n",
       "    </tr>\n",
       "    <tr>\n",
       "      <th>4</th>\n",
       "      <td>5</td>\n",
       "      <td>41923</td>\n",
       "    </tr>\n",
       "  </tbody>\n",
       "</table>\n",
       "</div>"
      ],
      "text/plain": [
       "   daynumber  numtrips\n",
       "0          1     62943\n",
       "1          2     43410\n",
       "2          3     53866\n",
       "3          4     41602\n",
       "4          5     41923"
      ]
     },
     "execution_count": 30,
     "metadata": {},
     "output_type": "execute_result"
    }
   ],
   "source": [
    "trips = bq.Query(taxiquery, YEAR=2015).to_dataframe()\n",
    "trips[:5]"
   ]
  },
  {
   "cell_type": "code",
   "execution_count": 31,
   "metadata": {
    "collapsed": false
   },
   "outputs": [
    {
     "name": "stdout",
     "output_type": "stream",
     "text": [
      "Just using average=54674.0994475 has RMSE of 10163.4654442\n"
     ]
    }
   ],
   "source": [
    "avg = np.mean(trips['numtrips'])\n",
    "print 'Just using average={0} has RMSE of {1}'.format(avg, np.sqrt(np.mean((trips['numtrips'] - avg)**2)))"
   ]
  },
  {
   "cell_type": "code",
   "execution_count": 32,
   "metadata": {
    "collapsed": false
   },
   "outputs": [
    {
     "data": {
      "text/html": [
       "\n",
       "    <div class=\"bqtv\" id=\"16_146600440425\"><table><tr><th>usaf</th><th>wban</th><th>name</th><th>country</th><th>fips</th><th>state</th><th>call</th><th>lat</th><th>lon</th><th>elev</th><th>begin</th><th>end</th></tr><tr><td>725030</td><td>14732</td><td>NEW YORK/LA GUARDIA</td><td>US</td><td>US</td><td>NY</td><td>KLGA</td><td>40779.0</td><td>-73880.0</td><td>94</td><td>19350222</td><td>20120619</td></tr></table></div>\n",
       "    <br />(rows: 1, time: 0.8s,     2MB processed, job: job_z-stZ73Y-3yMeBdJI_BamIcv5bM)<br />\n",
       "    <script>\n",
       "      require(['extensions/charting', 'element!16_146600440425', 'style!/static/extensions/charting.css'],\n",
       "        function(charts, dom) {\n",
       "          charts.render(dom,\n",
       "            {\n",
       "              chartStyle:\"table\",\n",
       "              dataName:\"0\",\n",
       "              fields:\"usaf,wban,name,country,fips,state,call,lat,lon,elev,begin,end\",\n",
       "              totalRows:1,\n",
       "              rowsPerPage:25,\n",
       "            }, {}, {\"rows\": [{\"c\": [{\"v\": \"725030\"}, {\"v\": \"14732\"}, {\"v\": \"NEW YORK/LA GUARDIA\"}, {\"v\": \"US\"}, {\"v\": \"US\"}, {\"v\": \"NY\"}, {\"v\": \"KLGA\"}, {\"v\": 40779.0}, {\"v\": -73880.0}, {\"v\": \"94\"}, {\"v\": \"19350222\"}, {\"v\": \"20120619\"}]}], \"cols\": [{\"type\": \"string\", \"id\": \"usaf\", \"label\": \"usaf\"}, {\"type\": \"string\", \"id\": \"wban\", \"label\": \"wban\"}, {\"type\": \"string\", \"id\": \"name\", \"label\": \"name\"}, {\"type\": \"string\", \"id\": \"country\", \"label\": \"country\"}, {\"type\": \"string\", \"id\": \"fips\", \"label\": \"fips\"}, {\"type\": \"string\", \"id\": \"state\", \"label\": \"state\"}, {\"type\": \"string\", \"id\": \"call\", \"label\": \"call\"}, {\"type\": \"number\", \"id\": \"lat\", \"label\": \"lat\"}, {\"type\": \"number\", \"id\": \"lon\", \"label\": \"lon\"}, {\"type\": \"string\", \"id\": \"elev\", \"label\": \"elev\"}, {\"type\": \"string\", \"id\": \"begin\", \"label\": \"begin\"}, {\"type\": \"string\", \"id\": \"end\", \"label\": \"end\"}]});\n",
       "        }\n",
       "      );\n",
       "    </script>\n",
       "  "
      ],
      "text/plain": [
       "QueryResultsTable job_z-stZ73Y-3yMeBdJI_BamIcv5bM"
      ]
     },
     "execution_count": 32,
     "metadata": {},
     "output_type": "execute_result"
    }
   ],
   "source": [
    "%%sql\n",
    "SELECT * FROM [fh-bigquery:weather_gsod.stations]\n",
    "WHERE state = 'NY' AND wban != '99999' AND name contains 'LA GUARDIA'"
   ]
  },
  {
   "cell_type": "code",
   "execution_count": 33,
   "metadata": {
    "collapsed": true
   },
   "outputs": [],
   "source": [
    "%%sql --module wxquery\n",
    "SELECT DAYOFYEAR(TIMESTAMP('$YEAR'+mo+da)) daynumber,\n",
    "       FIRST(DAYOFWEEK(TIMESTAMP('$YEAR'+mo+da))) dayofweek,\n",
    "       MIN(min) mintemp, MAX(max) maxtemp, MAX(IF(prcp=99.99,0,prcp)) rain\n",
    "FROM [fh-bigquery:weather_gsod.gsod$YEAR]\n",
    "WHERE stn='725030' GROUP BY 1 ORDER BY daynumber DESC"
   ]
  },
  {
   "cell_type": "code",
   "execution_count": 34,
   "metadata": {
    "collapsed": false
   },
   "outputs": [
    {
     "data": {
      "text/html": [
       "<div>\n",
       "<table border=\"1\" class=\"dataframe\">\n",
       "  <thead>\n",
       "    <tr style=\"text-align: right;\">\n",
       "      <th></th>\n",
       "      <th>daynumber</th>\n",
       "      <th>dayofweek</th>\n",
       "      <th>mintemp</th>\n",
       "      <th>maxtemp</th>\n",
       "      <th>rain</th>\n",
       "    </tr>\n",
       "  </thead>\n",
       "  <tbody>\n",
       "    <tr>\n",
       "      <th>0</th>\n",
       "      <td>365</td>\n",
       "      <td>5</td>\n",
       "      <td>46.0</td>\n",
       "      <td>48.2</td>\n",
       "      <td>0.17</td>\n",
       "    </tr>\n",
       "    <tr>\n",
       "      <th>1</th>\n",
       "      <td>364</td>\n",
       "      <td>4</td>\n",
       "      <td>34.0</td>\n",
       "      <td>48.0</td>\n",
       "      <td>0.13</td>\n",
       "    </tr>\n",
       "    <tr>\n",
       "      <th>2</th>\n",
       "      <td>363</td>\n",
       "      <td>3</td>\n",
       "      <td>33.8</td>\n",
       "      <td>46.9</td>\n",
       "      <td>0.37</td>\n",
       "    </tr>\n",
       "    <tr>\n",
       "      <th>3</th>\n",
       "      <td>362</td>\n",
       "      <td>2</td>\n",
       "      <td>39.0</td>\n",
       "      <td>62.1</td>\n",
       "      <td>0.02</td>\n",
       "    </tr>\n",
       "    <tr>\n",
       "      <th>4</th>\n",
       "      <td>361</td>\n",
       "      <td>1</td>\n",
       "      <td>46.0</td>\n",
       "      <td>62.6</td>\n",
       "      <td>0.14</td>\n",
       "    </tr>\n",
       "  </tbody>\n",
       "</table>\n",
       "</div>"
      ],
      "text/plain": [
       "   daynumber  dayofweek  mintemp  maxtemp  rain\n",
       "0        365          5     46.0     48.2  0.17\n",
       "1        364          4     34.0     48.0  0.13\n",
       "2        363          3     33.8     46.9  0.37\n",
       "3        362          2     39.0     62.1  0.02\n",
       "4        361          1     46.0     62.6  0.14"
      ]
     },
     "execution_count": 34,
     "metadata": {},
     "output_type": "execute_result"
    }
   ],
   "source": [
    "weather = bq.Query(wxquery, YEAR=2015).to_dataframe()\n",
    "weather[:5]"
   ]
  },
  {
   "cell_type": "code",
   "execution_count": 35,
   "metadata": {
    "collapsed": false
   },
   "outputs": [
    {
     "data": {
      "text/html": [
       "<div>\n",
       "<table border=\"1\" class=\"dataframe\">\n",
       "  <thead>\n",
       "    <tr style=\"text-align: right;\">\n",
       "      <th></th>\n",
       "      <th>daynumber</th>\n",
       "      <th>dayofweek</th>\n",
       "      <th>mintemp</th>\n",
       "      <th>maxtemp</th>\n",
       "      <th>rain</th>\n",
       "      <th>numtrips</th>\n",
       "    </tr>\n",
       "  </thead>\n",
       "  <tbody>\n",
       "    <tr>\n",
       "      <th>0</th>\n",
       "      <td>181</td>\n",
       "      <td>3</td>\n",
       "      <td>64.0</td>\n",
       "      <td>82.0</td>\n",
       "      <td>0.00</td>\n",
       "      <td>42978</td>\n",
       "    </tr>\n",
       "    <tr>\n",
       "      <th>1</th>\n",
       "      <td>180</td>\n",
       "      <td>2</td>\n",
       "      <td>62.1</td>\n",
       "      <td>78.1</td>\n",
       "      <td>0.26</td>\n",
       "      <td>41397</td>\n",
       "    </tr>\n",
       "    <tr>\n",
       "      <th>2</th>\n",
       "      <td>179</td>\n",
       "      <td>1</td>\n",
       "      <td>60.1</td>\n",
       "      <td>73.9</td>\n",
       "      <td>1.32</td>\n",
       "      <td>54632</td>\n",
       "    </tr>\n",
       "    <tr>\n",
       "      <th>3</th>\n",
       "      <td>178</td>\n",
       "      <td>7</td>\n",
       "      <td>62.1</td>\n",
       "      <td>80.1</td>\n",
       "      <td>0.00</td>\n",
       "      <td>74883</td>\n",
       "    </tr>\n",
       "    <tr>\n",
       "      <th>4</th>\n",
       "      <td>177</td>\n",
       "      <td>6</td>\n",
       "      <td>69.1</td>\n",
       "      <td>84.9</td>\n",
       "      <td>0.00</td>\n",
       "      <td>58371</td>\n",
       "    </tr>\n",
       "  </tbody>\n",
       "</table>\n",
       "</div>"
      ],
      "text/plain": [
       "   daynumber  dayofweek  mintemp  maxtemp  rain  numtrips\n",
       "0        181          3     64.0     82.0  0.00     42978\n",
       "1        180          2     62.1     78.1  0.26     41397\n",
       "2        179          1     60.1     73.9  1.32     54632\n",
       "3        178          7     62.1     80.1  0.00     74883\n",
       "4        177          6     69.1     84.9  0.00     58371"
      ]
     },
     "execution_count": 35,
     "metadata": {},
     "output_type": "execute_result"
    }
   ],
   "source": [
    "data = pd.merge(weather, trips, on='daynumber')\n",
    "data[:5]"
   ]
  },
  {
   "cell_type": "code",
   "execution_count": 36,
   "metadata": {
    "collapsed": false
   },
   "outputs": [
    {
     "data": {
      "image/png": "[encoded data removed]",
      "text/plain": [
       "<matplotlib.figure.Figure at 0x7f83dfdda910>"
      ]
     },
     "metadata": {},
     "output_type": "display_data"
    }
   ],
   "source": [
    "j = data.plot(kind='scatter', x='maxtemp', y='numtrips')"
   ]
  },
  {
   "cell_type": "code",
   "execution_count": 37,
   "metadata": {
    "collapsed": false
   },
   "outputs": [
    {
     "data": {
      "image/png": "[encoded data removed]",
      "text/plain": [
       "<matplotlib.figure.Figure at 0x7f83dfcd27d0>"
      ]
     },
     "metadata": {},
     "output_type": "display_data"
    }
   ],
   "source": [
    "j = data.plot(kind='scatter', x='dayofweek', y='numtrips')"
   ]
  },
  {
   "cell_type": "code",
   "execution_count": 38,
   "metadata": {
    "collapsed": false
   },
   "outputs": [
    {
     "data": {
      "image/png": "[encoded data removed]",
      "text/plain": [
       "<matplotlib.figure.Figure at 0x7f83dfbcbf90>"
      ]
     },
     "metadata": {},
     "output_type": "display_data"
    }
   ],
   "source": [
    "j = data[data['dayofweek'] == 7].plot(kind='scatter', x='maxtemp', y='numtrips')"
   ]
  },
  {
   "cell_type": "code",
   "execution_count": 39,
   "metadata": {
    "collapsed": false
   },
   "outputs": [
    {
     "data": {
      "text/html": [
       "<div>\n",
       "<table border=\"1\" class=\"dataframe\">\n",
       "  <thead>\n",
       "    <tr style=\"text-align: right;\">\n",
       "      <th></th>\n",
       "      <th>daynumber</th>\n",
       "      <th>dayofweek</th>\n",
       "      <th>mintemp</th>\n",
       "      <th>maxtemp</th>\n",
       "      <th>rain</th>\n",
       "      <th>numtrips</th>\n",
       "    </tr>\n",
       "  </thead>\n",
       "  <tbody>\n",
       "    <tr>\n",
       "      <th>0</th>\n",
       "      <td>365</td>\n",
       "      <td>4</td>\n",
       "      <td>27.0</td>\n",
       "      <td>35.1</td>\n",
       "      <td>0.0</td>\n",
       "      <td>67518</td>\n",
       "    </tr>\n",
       "    <tr>\n",
       "      <th>1</th>\n",
       "      <td>364</td>\n",
       "      <td>3</td>\n",
       "      <td>28.9</td>\n",
       "      <td>44.1</td>\n",
       "      <td>0.0</td>\n",
       "      <td>43173</td>\n",
       "    </tr>\n",
       "    <tr>\n",
       "      <th>2</th>\n",
       "      <td>363</td>\n",
       "      <td>2</td>\n",
       "      <td>37.9</td>\n",
       "      <td>52.0</td>\n",
       "      <td>0.1</td>\n",
       "      <td>37979</td>\n",
       "    </tr>\n",
       "    <tr>\n",
       "      <th>3</th>\n",
       "      <td>362</td>\n",
       "      <td>1</td>\n",
       "      <td>42.1</td>\n",
       "      <td>55.0</td>\n",
       "      <td>0.0</td>\n",
       "      <td>43055</td>\n",
       "    </tr>\n",
       "    <tr>\n",
       "      <th>4</th>\n",
       "      <td>361</td>\n",
       "      <td>7</td>\n",
       "      <td>39.9</td>\n",
       "      <td>55.0</td>\n",
       "      <td>0.0</td>\n",
       "      <td>46961</td>\n",
       "    </tr>\n",
       "  </tbody>\n",
       "</table>\n",
       "</div>"
      ],
      "text/plain": [
       "   daynumber  dayofweek  mintemp  maxtemp  rain  numtrips\n",
       "0        365          4     27.0     35.1   0.0     67518\n",
       "1        364          3     28.9     44.1   0.0     43173\n",
       "2        363          2     37.9     52.0   0.1     37979\n",
       "3        362          1     42.1     55.0   0.0     43055\n",
       "4        361          7     39.9     55.0   0.0     46961"
      ]
     },
     "execution_count": 39,
     "metadata": {},
     "output_type": "execute_result"
    }
   ],
   "source": [
    "trips = bq.Query(taxiquery, YEAR=2014).to_dataframe()\n",
    "weather = bq.Query(wxquery, YEAR=2014).to_dataframe()\n",
    "data2014 = pd.merge(weather, trips, on='daynumber')\n",
    "data2014[:5]"
   ]
  },
  {
   "cell_type": "code",
   "execution_count": 40,
   "metadata": {
    "collapsed": false
   },
   "outputs": [
    {
     "data": {
      "text/html": [
       "<div>\n",
       "<table border=\"1\" class=\"dataframe\">\n",
       "  <thead>\n",
       "    <tr style=\"text-align: right;\">\n",
       "      <th></th>\n",
       "      <th>daynumber</th>\n",
       "      <th>dayofweek</th>\n",
       "      <th>mintemp</th>\n",
       "      <th>maxtemp</th>\n",
       "      <th>rain</th>\n",
       "      <th>numtrips</th>\n",
       "    </tr>\n",
       "  </thead>\n",
       "  <tbody>\n",
       "    <tr>\n",
       "      <th>count</th>\n",
       "      <td>546.000000</td>\n",
       "      <td>546.000000</td>\n",
       "      <td>546.000000</td>\n",
       "      <td>546.000000</td>\n",
       "      <td>546.000000</td>\n",
       "      <td>546.000000</td>\n",
       "    </tr>\n",
       "    <tr>\n",
       "      <th>mean</th>\n",
       "      <td>152.501832</td>\n",
       "      <td>4.000000</td>\n",
       "      <td>43.511355</td>\n",
       "      <td>61.806410</td>\n",
       "      <td>0.130568</td>\n",
       "      <td>47130.009158</td>\n",
       "    </tr>\n",
       "    <tr>\n",
       "      <th>std</th>\n",
       "      <td>101.099356</td>\n",
       "      <td>2.001834</td>\n",
       "      <td>18.598263</td>\n",
       "      <td>19.169493</td>\n",
       "      <td>0.360620</td>\n",
       "      <td>11613.865885</td>\n",
       "    </tr>\n",
       "    <tr>\n",
       "      <th>min</th>\n",
       "      <td>1.000000</td>\n",
       "      <td>1.000000</td>\n",
       "      <td>3.000000</td>\n",
       "      <td>21.000000</td>\n",
       "      <td>0.000000</td>\n",
       "      <td>13436.000000</td>\n",
       "    </tr>\n",
       "    <tr>\n",
       "      <th>25%</th>\n",
       "      <td>69.000000</td>\n",
       "      <td>2.000000</td>\n",
       "      <td>28.225000</td>\n",
       "      <td>44.100000</td>\n",
       "      <td>0.000000</td>\n",
       "      <td>39150.250000</td>\n",
       "    </tr>\n",
       "    <tr>\n",
       "      <th>50%</th>\n",
       "      <td>137.000000</td>\n",
       "      <td>4.000000</td>\n",
       "      <td>44.100000</td>\n",
       "      <td>64.000000</td>\n",
       "      <td>0.000000</td>\n",
       "      <td>46720.500000</td>\n",
       "    </tr>\n",
       "    <tr>\n",
       "      <th>75%</th>\n",
       "      <td>228.750000</td>\n",
       "      <td>6.000000</td>\n",
       "      <td>61.000000</td>\n",
       "      <td>79.000000</td>\n",
       "      <td>0.070000</td>\n",
       "      <td>53855.500000</td>\n",
       "    </tr>\n",
       "    <tr>\n",
       "      <th>max</th>\n",
       "      <td>365.000000</td>\n",
       "      <td>7.000000</td>\n",
       "      <td>75.900000</td>\n",
       "      <td>93.000000</td>\n",
       "      <td>4.880000</td>\n",
       "      <td>81574.000000</td>\n",
       "    </tr>\n",
       "  </tbody>\n",
       "</table>\n",
       "</div>"
      ],
      "text/plain": [
       "        daynumber   dayofweek     mintemp     maxtemp        rain  \\\n",
       "count  546.000000  546.000000  546.000000  546.000000  546.000000   \n",
       "mean   152.501832    4.000000   43.511355   61.806410    0.130568   \n",
       "std    101.099356    2.001834   18.598263   19.169493    0.360620   \n",
       "min      1.000000    1.000000    3.000000   21.000000    0.000000   \n",
       "25%     69.000000    2.000000   28.225000   44.100000    0.000000   \n",
       "50%    137.000000    4.000000   44.100000   64.000000    0.000000   \n",
       "75%    228.750000    6.000000   61.000000   79.000000    0.070000   \n",
       "max    365.000000    7.000000   75.900000   93.000000    4.880000   \n",
       "\n",
       "           numtrips  \n",
       "count    546.000000  \n",
       "mean   47130.009158  \n",
       "std    11613.865885  \n",
       "min    13436.000000  \n",
       "25%    39150.250000  \n",
       "50%    46720.500000  \n",
       "75%    53855.500000  \n",
       "max    81574.000000  "
      ]
     },
     "execution_count": 40,
     "metadata": {},
     "output_type": "execute_result"
    }
   ],
   "source": [
    "data2 = pd.concat([data, data2014])\n",
    "data2.describe()"
   ]
  },
  {
   "cell_type": "code",
   "execution_count": 41,
   "metadata": {
    "collapsed": false
   },
   "outputs": [
    {
     "data": {
      "image/png": "[encoded data removed]",
      "text/plain": [
       "<matplotlib.figure.Figure at 0x7f83dfca9090>"
      ]
     },
     "metadata": {},
     "output_type": "display_data"
    }
   ],
   "source": [
    "j = data2[data2['dayofweek'] == 7].plot(kind='scatter', x='maxtemp', y='numtrips')"
   ]
  },
  {
   "cell_type": "code",
   "execution_count": 42,
   "metadata": {
    "collapsed": false
   },
   "outputs": [
    {
     "data": {
      "text/html": [
       "<div>\n",
       "<table border=\"1\" class=\"dataframe\">\n",
       "  <thead>\n",
       "    <tr style=\"text-align: right;\">\n",
       "      <th></th>\n",
       "      <th>dayofweek</th>\n",
       "      <th>mintemp</th>\n",
       "      <th>maxtemp</th>\n",
       "      <th>rain</th>\n",
       "    </tr>\n",
       "  </thead>\n",
       "  <tbody>\n",
       "    <tr>\n",
       "      <th>70</th>\n",
       "      <td>4</td>\n",
       "      <td>52.0</td>\n",
       "      <td>68.0</td>\n",
       "      <td>0.35</td>\n",
       "    </tr>\n",
       "    <tr>\n",
       "      <th>167</th>\n",
       "      <td>4</td>\n",
       "      <td>17.1</td>\n",
       "      <td>36.0</td>\n",
       "      <td>0.00</td>\n",
       "    </tr>\n",
       "    <tr>\n",
       "      <th>139</th>\n",
       "      <td>5</td>\n",
       "      <td>64.0</td>\n",
       "      <td>86.0</td>\n",
       "      <td>0.15</td>\n",
       "    </tr>\n",
       "    <tr>\n",
       "      <th>280</th>\n",
       "      <td>4</td>\n",
       "      <td>26.1</td>\n",
       "      <td>37.9</td>\n",
       "      <td>0.00</td>\n",
       "    </tr>\n",
       "    <tr>\n",
       "      <th>62</th>\n",
       "      <td>4</td>\n",
       "      <td>51.1</td>\n",
       "      <td>75.9</td>\n",
       "      <td>0.00</td>\n",
       "    </tr>\n",
       "  </tbody>\n",
       "</table>\n",
       "</div>"
      ],
      "text/plain": [
       "     dayofweek  mintemp  maxtemp  rain\n",
       "70           4     52.0     68.0  0.35\n",
       "167          4     17.1     36.0  0.00\n",
       "139          5     64.0     86.0  0.15\n",
       "280          4     26.1     37.9  0.00\n",
       "62           4     51.1     75.9  0.00"
      ]
     },
     "execution_count": 42,
     "metadata": {},
     "output_type": "execute_result"
    }
   ],
   "source": [
    "import tensorflow as tf\n",
    "shuffled = data2.sample(frac=1)\n",
    "# It would be a good idea, if we had more data, to treat the days as categorical variables\n",
    "# with the small amount of data, we have though, the model tends to overfit\n",
    "#predictors = shuffled.iloc[:,2:5]\n",
    "#for day in xrange(1,8):\n",
    "#  matching = shuffled['dayofweek'] == day\n",
    "#  predictors.loc[matching, 'day_' + str(day)] = 1\n",
    "#  predictors.loc[~matching, 'day_' + str(day)] = 0\n",
    "predictors = shuffled.iloc[:,1:5]\n",
    "predictors[:5]"
   ]
  },
  {
   "cell_type": "code",
   "execution_count": 43,
   "metadata": {
    "collapsed": false
   },
   "outputs": [
    {
     "data": {
      "text/plain": [
       "70     48843\n",
       "167    44394\n",
       "139    39879\n",
       "280    39823\n",
       "62     49132\n",
       "Name: numtrips, dtype: int64"
      ]
     },
     "execution_count": 43,
     "metadata": {},
     "output_type": "execute_result"
    }
   ],
   "source": [
    "targets = shuffled.iloc[:,5]\n",
    "targets[:5]"
   ]
  },
  {
   "cell_type": "code",
   "execution_count": 44,
   "metadata": {
    "collapsed": false
   },
   "outputs": [
    {
     "name": "stdout",
     "output_type": "stream",
     "text": [
      "Just using average=47017.3715596 has RMSE of 11480.1352391\n"
     ]
    }
   ],
   "source": [
    "trainsize = int(len(shuffled['numtrips']) * 0.8)\n",
    "avg = np.mean(shuffled['numtrips'][:trainsize])\n",
    "rmse = np.sqrt(np.mean((shuffled['numtrips'][trainsize:] - avg)**2))\n",
    "print 'Just using average={0} has RMSE of {1}'.format(avg, rmse)"
   ]
  },
  {
   "cell_type": "code",
   "execution_count": null,
   "metadata": {
    "collapsed": false
   },
   "outputs": [
    {
     "name": "stdout",
     "output_type": "stream",
     "text": [
      "0 error=24103.838193\n",
      "1000 error=11526.8191846\n",
      "2000 error=10745.6232729\n",
      "3000 error=9952.05663868\n",
      "4000 error=9234.33548123\n",
      "5000 error=8634.16833434\n",
      "6000 error=8172.24912615\n",
      "7000 error=7854.89900542\n",
      "8000 error=7671.62815871\n",
      "9000 error=7592.19005766\n"
     ]
    }
   ],
   "source": [
    "SCALE_NUM_TRIPS = 100000\n",
    "trainsize = int(len(shuffled['numtrips']) * 0.8)\n",
    "testsize = len(shuffled['numtrips']) - trainsize\n",
    "npredictors = len(predictors.columns)\n",
    "noutputs = 1\n",
    "numiter = 10000\n",
    "modelfile = '/tmp/trained_model'\n",
    "with tf.Session() as sess:\n",
    "  feature_data = tf.placeholder(\"float\", [None, npredictors])\n",
    "  target_data = tf.placeholder(\"float\", [None, noutputs])\n",
    "  weights = tf.Variable(tf.truncated_normal([npredictors, noutputs], stddev=0.01))\n",
    "  biases = tf.Variable(tf.ones([noutputs]))\n",
    "  model = (tf.matmul(feature_data, weights) + biases) * SCALE_NUM_TRIPS\n",
    "  cost = tf.nn.l2_loss(model - target_data)\n",
    "  training_step = tf.train.AdamOptimizer(learning_rate=0.0001).minimize(cost)\n",
    "  init = tf.initialize_all_variables()\n",
    "  sess.run(init)\n",
    "\n",
    "  saver = tf.train.Saver({'weights' : weights, 'biases' : biases})\n",
    "  for iter in xrange(0, numiter):\n",
    "    sess.run(training_step, feed_dict = {\n",
    "        feature_data : predictors[:trainsize].values,\n",
    "        target_data : targets[:trainsize].values.reshape(trainsize, noutputs)\n",
    "      })\n",
    "    \n",
    "    if iter%1000 == 0:\n",
    "      print '{0} error={1}'.format(iter, np.sqrt(cost.eval(feed_dict = {\n",
    "          feature_data : predictors[:trainsize].values,\n",
    "          target_data : targets[:trainsize].values.reshape(trainsize, noutputs)\n",
    "      }) / trainsize))\n",
    "    \n",
    "  filename = saver.save(sess, modelfile, global_step=numiter)\n",
    "  print 'Model written to {0}'.format(filename)\n",
    "\n",
    "  print 'testerror={0}'.format(np.sqrt(cost.eval(feed_dict = {\n",
    "          feature_data : predictors[trainsize:].values,\n",
    "          target_data : targets[trainsize:].values.reshape(testsize, noutputs)\n",
    "      }) / testsize))"
   ]
  },
  {
   "cell_type": "code",
   "execution_count": null,
   "metadata": {
    "collapsed": true
   },
   "outputs": [],
   "source": []
  }
 ],
 "metadata": {
  "kernelspec": {
   "display_name": "Python 2",
   "language": "python",
   "name": "python2"
  },
  "language_info": {
   "codemirror_mode": {
    "name": "ipython",
    "version": 2
   },
   "file_extension": ".py",
   "mimetype": "text/x-python",
   "name": "python",
   "nbconvert_exporter": "python",
   "pygments_lexer": "ipython2",
   "version": "2.7.9"
  }
 },
 "nbformat": 4,
 "nbformat_minor": 0
}
