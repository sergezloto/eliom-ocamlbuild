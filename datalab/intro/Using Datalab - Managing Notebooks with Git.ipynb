{
 "cells": [
  {
   "cell_type": "markdown",
   "metadata": {},
   "source": [
    "# Using Cloud Datalab - Managing Notebooks with Git"
   ]
  },
  {
   "cell_type": "markdown",
   "metadata": {},
   "source": [
    "This notebook describes the integration of git repositories in Google Cloud Datalab, and how you can manage notebooks with source control, as well as share them with other members of your project."
   ]
  },
  {
   "cell_type": "markdown",
   "metadata": {},
   "source": [
    "## Source Control with Git\n",
    "\n",
    "Notebooks authored in Cloud Datalab are automatically saved in the git repository associated with the  Cloud project.\n",
    "\n",
    "The git repository associated with a Cloud project is provided by the [Source Repository](https://cloud.google.com/tools/cloud-repositories/docs/) service. A source repository is a git repository, and can optionally be configured to connect and synchronize with an external git repository, such as one on GitHub. In addition to providing git functionality, a source repository also provides the concept of a workspace (built using git) per user, which enables performing edits, and manage them as pending or uncommitted changes.\n",
    "\n",
    "When Cloud Datalab is deployed into a Cloud project the following additions are made to the source repository:\n",
    "\n",
    "* A branch named \"datalab\", if it is the first instance of Cloud Datalab in the Cloud project. This is setup as an orphaned branch, so it doesn't contain any of the content of other branches in your repository, should they exist.\n",
    "\n",
    "\n",
    "* A branch per Cloud Datalab workspace that is a child off of the \"datalab\" branch. This is named as \"datalab_name-of-workspace\". For example, for the default \"main\" Cloud Datalab workspace, this will be named \"datalab_main\". The branch inherits all contents from \"datalab\" branch. All edits within a Cloud Datalab instance are automatically saved as uncommitted changes of the current user within this branch (user’s workspace). This branch can be reviewed for pending changes and committing changes upstream to the parent \"datalab\" branch within the Developer Console. Specifically, within the Source Code > Browse section.\n",
    "\n",
    "The relationships between Cloud Datalab instances and the branches in its git repository are as follows:\n",
    "\n",
    "    Cloud Project1               ----------      \"datalab\" branch (in Project1)\n",
    "\n",
    "      Cloud Datalab instance1    ----------      \"datalab_instance1\" branch, child off of \"datalab\" branch\n",
    "        user1's edits            ----------       user1's workspace in \"datalab_instance1\" branch\n",
    "        user2's edits            ----------       user2's workspace in \"datalab_instance1\" branch\n",
    "        \n",
    "      Cloud Datalab instance2    ----------      \"datalab_instance2\" branch, child off of \"datalab\" branch\n",
    "        user1's edits            ----------       user1's workspace in \"datalab_instance2\" branch\n",
    "\n",
    "    Cloud Project2               ----------      \"datalab\" branch (in Project2)\n",
    "\n",
    "      ..."
   ]
  },
  {
   "cell_type": "markdown",
   "metadata": {},
   "source": [
    "## Notebook Scenarios  "
   ]
  },
  {
   "cell_type": "markdown",
   "metadata": {},
   "source": [
    "  \n",
    "  \n",
    "### Manage Your Edits in Developer Console\n",
    "\n",
    "As you make changes in Cloud Datalab, these changes (notebook edits, additions, deletions and renames) are all committed to the local disk, and periodically pushed to the workspace associated with the current user.\n",
    "\n",
    "* Make some changes to your notebooks. Within a short period (usually 1 minute), these changes can be seen in Developer Console.\n",
    "\n",
    "\n",
    "* Go to https://console.developers.google.com/, go to the project where Cloud Datalab is deployed.\n",
    "\n",
    "\n",
    "* Click Source Code, and then Browse. In the dropdown list of all the branches, select the branched named “datalab_[instance]” where [instance] is the name of this Cloud Datalab instance. For example, “datalab_main”.\n",
    "\n",
    "\n",
    "* Your changes will be listed under “Modified Files” in the right pane. You can manage your changes there, including viewing diff, committing, reverting, etc. For details, see https://cloud.google.com/tools/cloud-repositories/docs/cloud-repositories-files.\n",
    "\n",
    "\n",
    "* If you make any changes to the notebooks here in the Developer Console, such as reverting a notebook, they will also be available in Cloud Datalab shortly.\n"
   ]
  },
  {
   "cell_type": "markdown",
   "metadata": {},
   "source": [
    "\n",
    "### Sharing Notebooks with Other Users\n",
    "\n",
    "Once you commit changes from your workspace, these are available for other users to bring into their own workspace.\n",
    "\n",
    "* You add or upload notebooks through Cloud Datalab, and they will be visible in Developer Console under “Modified Files”.\n",
    "\n",
    "\n",
    "* Commit those changes in Developer Console so these changes are committed from your user workspace to the associated branch, and will become available to other users.\n",
    "\n",
    "\n",
    "* When another user uses this Cloud Datalab instance, they will see these new sample notebooks immediately if they are using the instance for the first time.\n",
    "\n",
    "\n",
    "* If the other user has already used this Cloud Datalab instance before (and thus have their own workspace in the source repository), these new notebooks will not be visible until they refresh their workspace within the Developer Console to the latest commit.\n"
   ]
  },
  {
   "cell_type": "markdown",
   "metadata": {},
   "source": [
    "### Creating a Local Clone of the Git Repository\n",
    "\n",
    "Cloud repository is a git repository so regular git commands work after you configure git credentials to use gcloud authentication.\n",
    "\n",
    "* Before you clone the cloud repository using git, the uncommitted changes from all users of this Cloud Datalab instance need to be committed first if you want them to be included in your target repository.\n",
    "\n",
    "\n",
    "* Run the following to authenticate with Google cloud:  \n",
    "      gcloud auth login\n",
    "      \n",
    "* Now configure git to use gcloud auth, so it can use the Cloud repository. Run:  \n",
    "      git config credential.helper gcloud.sh\n",
    "      \n",
    "* Clone the Cloud repository to a local one. For example, run:  \n",
    "      git clone https://source.developers.google.com/p/my_project_id/ ./myfolder\n",
    "      \n",
    "* Now you can work with your local git repository like any other git repository, including pulling changes, as well as pushing changes back.\n"
   ]
  },
  {
   "cell_type": "markdown",
   "metadata": {},
   "source": [
    "### Sharing Notebooks Across Multiple Cloud Datalab Workspaces\n",
    "\n",
    "You may deploy multiple Cloud Datalab workspaces within the same Cloud project. For example, you may want each user or workstream to use their own Cloud Datalab instance. The fact that all Cloud Datalab instance branches are children off of a common “datalab” branch makes it easy to merge changes between them.\n",
    "\n",
    "* Assume you have deployed \"main\" (default) and \"alpha\" (alternate) Cloud Datalab instances into your project. During the deployment, \"datalab_main\" and \"datalab_alpha\" branches are created off of \"datalab\" as parent branch.\n",
    "\n",
    "\n",
    "* Furthermore, the alpha team has contributed some new notebooks and they have been committed to \"datalab_alpha\" branch.\n",
    "\n",
    "\n",
    "* Clone the cloud repository to local file system:  \n",
    "      git clone https://source.developers.google.com/p/your-project-id/ ./local-repo\n",
    "\n",
    "* Run the following to push changes from \"datalab_alpha\" to \"datalab\" branch, assuming no conflicts:  \n",
    "      cd ./local-repo  \n",
    "      git checkout datalab  \n",
    "      git merge origin/datalab_alpha  \n",
    "      git push origin datalab  \n",
    "\n",
    "* Now, your \"datalab\" branch has all the changes from \"datalab_alpha\" branch. If you deploy a new instance of Cloud Datalab, say \"beta\" in the same Cloud project, the new branch \"datalab_beta\" will also include these changes because \"datalab_beta\" will be a child branch off of \"datalab\" branch.  \n",
    "\n",
    "\n",
    "* For \"datalab_main\" branch to see those changes, you also need to run similar git commands to merge these changes from \"datalab\" to \"datalab_main\". \n"
   ]
  }
 ],
 "metadata": {
  "kernelspec": {
   "display_name": "Python 2",
   "language": "python",
   "name": "python2"
  },
  "language_info": {
   "codemirror_mode": {
    "name": "ipython",
    "version": 2
   },
   "file_extension": ".py",
   "mimetype": "text/x-python",
   "name": "python",
   "nbconvert_exporter": "python",
   "pygments_lexer": "ipython2",
   "version": "2.7.9"
  }
 },
 "nbformat": 4,
 "nbformat_minor": 0
}
