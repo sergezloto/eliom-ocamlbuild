{
 "cells": [
  {
   "cell_type": "markdown",
   "metadata": {},
   "source": [
    "# UDF Testing in the Notebook\n",
    "\n",
    "This notebook shows how to write and test BigQuery Javascript UDFs (user-defined functions) within a notebook.\n",
    "\n",
    "Before using this tutorial you should go through the [UDFs in BigQuery](notebooks/datalab/tutorials/BigQuery/UDFs%20in%20BigQuery.ipynb) tutorial which discusses how to use UDFs in notebooks without external code.\n",
    "\n",
    "You can read more about UDFs [here](https://cloud.google.com/bigquery/user-defined-functions). \n",
    "\n"
   ]
  },
  {
   "cell_type": "markdown",
   "metadata": {},
   "source": [
    "## Scenario\n",
    "\n",
    "This notebook uses the same scenario as before, looking at some anonymized logs that originated in Google AppEngine. "
   ]
  },
  {
   "cell_type": "markdown",
   "metadata": {},
   "source": [
    "## Creating and Testing the UDF\n",
    "\n",
    "UDFs are Javascript functions that take a row object and emitter function as input; they perform some computation and then call the emitter function to output a result row object. We will first write and test our UDF as Javascript. We can use a %%javascript cell for this. We will write the code of the UDF (and its helper function `getParameters`), then define some test data, and finally call the UDF with the test data after creating a mock version of the emitter function. Note that in a %%javascript cell you can access the output area element with the name `element`; our mock emitter will use that to produce output we can see in the notebook.\n",
    "\n",
    "There is no state shared between %%javascript cells so we have to do this all in a single cell."
   ]
  },
  {
   "cell_type": "code",
   "execution_count": 1,
   "metadata": {
    "collapsed": false
   },
   "outputs": [
    {
     "data": {
      "application/javascript": [
       "\n",
       "/**\n",
       " * A helper function to split a set of URL query parameters into an object\n",
       " * as key/value properties.\n",
       " */\n",
       "function getParameters(path) {\n",
       "  var re = /[?&]([^=]*)=([^&]*)/g;\n",
       "  var result = {};\n",
       "  var match;\n",
       "  while ((match = re.exec(path)) != null) {\n",
       "    result[match[1]] = decodeURIComponent(match[2]);\n",
       "  }\n",
       "  return result;  \n",
       "}\n",
       "\n",
       "/**\n",
       " * Our UDF function, which takes a row r and emitter function emitFn.\n",
       " * We assume each row r has the five columns from our input (timestamp, \n",
       " * method, latency, status and path). We will parse path from the input\n",
       " * and add its constituent parts, then call the emitter.\n",
       " *\n",
       " * Note: we re-use r for the output as we are keeping its fields but we\n",
       " * could have created a new object if that was more appropriate.\n",
       " */\n",
       "var udf = function(r, emitFn) {\n",
       "  var q = getParameters(r.path);\n",
       "  var split = r.path.indexOf('?');\n",
       "  r.event = r.path.substr(5, split - 5);\n",
       "  r.project = q.project;\n",
       "  r.instance = q.instance;\n",
       "  r.user = q.user;\n",
       "  r.page = q.page;\n",
       "  r.path = q.path;\n",
       "  r.version = q.version;\n",
       "  r.release = q.release;\n",
       "  emitFn(r);\n",
       "}\n",
       "\n",
       "// Now we want to test the UDF. We can try calling it using a sample line from our table.\n",
       "// Note that the variable 'element' is available to us to create output in the notebook,\n",
       "// so our test emitter will use that to display the fields.\n",
       "// Also note that the Date function in Javascript uses 0-based months so October is 9 (wat!)\n",
       "\n",
       "var test_row = {\n",
       "  latency: 0.00311,\n",
       "  method: 'POST',\n",
       "  path: '/log/page?project=14&instance=81&user=16&page=master&path=63&version=0.1.1&release=alpha',\n",
       "  status: 204,\n",
       "  timestamp: new Date(2015, 9, 27, 2, 41, 20, 430256)\n",
       "};\n",
       "\n",
       "function emitter(r) {\n",
       "  for (var p in r) {\n",
       "    element.append(p + '=' + r[p] + '<br>');\n",
       "  }\n",
       "}\n",
       "\n",
       "udf(test_row, emitter);"
      ],
      "text/plain": [
       "<IPython.core.display.Javascript object>"
      ]
     },
     "metadata": {},
     "output_type": "display_data"
    }
   ],
   "source": [
    "%%javascript\n",
    "\n",
    "/**\n",
    " * A helper function to split a set of URL query parameters into an object\n",
    " * as key/value properties.\n",
    " */\n",
    "function getParameters(path) {\n",
    "  var re = /[?&]([^=]*)=([^&]*)/g;\n",
    "  var result = {};\n",
    "  var match;\n",
    "  while ((match = re.exec(path)) != null) {\n",
    "    result[match[1]] = decodeURIComponent(match[2]);\n",
    "  }\n",
    "  return result;  \n",
    "}\n",
    "\n",
    "/**\n",
    " * Our UDF function, which takes a row r and emitter function emitFn.\n",
    " * We assume each row r has the five columns from our input (timestamp, \n",
    " * method, latency, status and path). We will parse path from the input\n",
    " * and add its constituent parts, then call the emitter.\n",
    " *\n",
    " * Note: we re-use r for the output as we are keeping its fields but we\n",
    " * could have created a new object if that was more appropriate.\n",
    " */\n",
    "var udf = function(r, emitFn) {\n",
    "  var q = getParameters(r.path);\n",
    "  var split = r.path.indexOf('?');\n",
    "  r.event = r.path.substr(5, split - 5);\n",
    "  r.project = q.project;\n",
    "  r.instance = q.instance;\n",
    "  r.user = q.user;\n",
    "  r.page = q.page;\n",
    "  r.path = q.path;\n",
    "  r.version = q.version;\n",
    "  r.release = q.release;\n",
    "  emitFn(r);\n",
    "}\n",
    "\n",
    "// Now we want to test the UDF. We can try calling it using a sample line from our table.\n",
    "// Note that the variable 'element' is available to us to create output in the notebook,\n",
    "// so our test emitter will use that to display the fields.\n",
    "// Also note that the Date function in Javascript uses 0-based months so October is 9 (wat!)\n",
    "\n",
    "var test_row = {\n",
    "  latency: 0.00311,\n",
    "  method: 'POST',\n",
    "  path: '/log/page?project=14&instance=81&user=16&page=master&path=63&version=0.1.1&release=alpha',\n",
    "  status: 204,\n",
    "  timestamp: new Date(2015, 9, 27, 2, 41, 20, 430256)\n",
    "};\n",
    "\n",
    "function emitter(r) {\n",
    "  for (var p in r) {\n",
    "    element.append(p + '=' + r[p] + '<br>');\n",
    "  }\n",
    "}\n",
    "\n",
    "udf(test_row, emitter);\n"
   ]
  },
  {
   "cell_type": "markdown",
   "metadata": {},
   "source": [
    "Looks like we are good to go!\n"
   ]
  },
  {
   "cell_type": "markdown",
   "metadata": {},
   "source": [
    "## Next Steps\n",
    "\n",
    "If you have code that you use regularly in your UDFs you can factor that out and put it in Google Cloud Storage then import it; this is covered in the tutorial  [UDFs using Code in Cloud Storage](notebooks/datalab/tutorials/BigQuery/UDFs%20using%20Code%20in%20Cloud%20Storage.ipynb)."
   ]
  },
  {
   "cell_type": "code",
   "execution_count": null,
   "metadata": {
    "collapsed": true
   },
   "outputs": [],
   "source": []
  }
 ],
 "metadata": {
  "kernelspec": {
   "display_name": "Python 2",
   "language": "python",
   "name": "python2"
  },
  "language_info": {
   "codemirror_mode": {
    "name": "ipython",
    "version": 2
   },
   "file_extension": ".py",
   "mimetype": "text/x-python",
   "name": "python",
   "nbconvert_exporter": "python",
   "pygments_lexer": "ipython2",
   "version": "2.7.9"
  }
 },
 "nbformat": 4,
 "nbformat_minor": 0
}
