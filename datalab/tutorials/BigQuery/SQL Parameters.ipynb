{
 "cells": [
  {
   "cell_type": "markdown",
   "metadata": {},
   "source": [
    "# SQL Parameters\n",
    "\n",
    "Currently BigQuery SQL does not support parameterization. However, within notebooks, it is quite interesting to be able to use Python variables defined in the notebook as parameter values for SQL.\n",
    "\n",
    "Cloud Datalab introduces a pattern for declaring and using parameterized queries."
   ]
  },
  {
   "cell_type": "markdown",
   "metadata": {},
   "source": [
    "## Data Preview"
   ]
  },
  {
   "cell_type": "code",
   "execution_count": 1,
   "metadata": {
    "collapsed": false
   },
   "outputs": [
    {
     "data": {
      "text/html": [
       "\n",
       "    <div class=\"bqtv\" id=\"1_145411798621\"><table><tr><th>timestamp</th><th>latency</th><th>status</th><th>method</th><th>endpoint</th></tr><tr><td>2014-06-15 07:00:00.003772</td><td>122</td><td>200</td><td>GET</td><td>Interact3</td></tr><tr><td>2014-06-15 07:00:00.428897</td><td>144</td><td>200</td><td>GET</td><td>Interact3</td></tr><tr><td>2014-06-15 07:00:00.536486</td><td>48</td><td>200</td><td>GET</td><td>Interact3</td></tr><tr><td>2014-06-15 07:00:00.652760</td><td>28</td><td>405</td><td>GET</td><td>Interact2</td></tr><tr><td>2014-06-15 07:00:00.670100</td><td>103</td><td>200</td><td>GET</td><td>Interact3</td></tr><tr><td>2014-06-15 07:00:00.834251</td><td>121</td><td>405</td><td>GET</td><td>Interact2</td></tr><tr><td>2014-06-15 07:00:00.943075</td><td>28</td><td>200</td><td>GET</td><td>Other</td></tr><tr><td>2014-06-15 07:00:01.000102</td><td>124</td><td>405</td><td>GET</td><td>Interact2</td></tr><tr><td>2014-06-15 07:00:01.071107</td><td>49</td><td>200</td><td>GET</td><td>Interact3</td></tr><tr><td>2014-06-15 07:00:01.159701</td><td>119</td><td>200</td><td>GET</td><td>Other</td></tr></table></div>\n",
       "    <br />(rows: 10, time: 1.2s, cached, job: job_RbdHtXxB4Sy12aKKCucO4uhb2PI)<br />\n",
       "    <script>\n",
       "      require(['extensions/charting', 'element!1_145411798621', 'style!/static/extensions/charting.css'],\n",
       "        function(charts, dom) {\n",
       "          charts.render(dom,\n",
       "            {\n",
       "              chartStyle:\"table\",\n",
       "              dataName:\"0\",\n",
       "              fields:\"timestamp,latency,status,method,endpoint\",\n",
       "              totalRows:10,\n",
       "              rowsPerPage:25,\n",
       "            }, {}, {\"rows\": [{\"c\": [{\"v\": \"2014-06-15T07:00:00.003772\"}, {\"v\": 122}, {\"v\": 200}, {\"v\": \"GET\"}, {\"v\": \"Interact3\"}]}, {\"c\": [{\"v\": \"2014-06-15T07:00:00.428897\"}, {\"v\": 144}, {\"v\": 200}, {\"v\": \"GET\"}, {\"v\": \"Interact3\"}]}, {\"c\": [{\"v\": \"2014-06-15T07:00:00.536486\"}, {\"v\": 48}, {\"v\": 200}, {\"v\": \"GET\"}, {\"v\": \"Interact3\"}]}, {\"c\": [{\"v\": \"2014-06-15T07:00:00.652760\"}, {\"v\": 28}, {\"v\": 405}, {\"v\": \"GET\"}, {\"v\": \"Interact2\"}]}, {\"c\": [{\"v\": \"2014-06-15T07:00:00.670100\"}, {\"v\": 103}, {\"v\": 200}, {\"v\": \"GET\"}, {\"v\": \"Interact3\"}]}, {\"c\": [{\"v\": \"2014-06-15T07:00:00.834251\"}, {\"v\": 121}, {\"v\": 405}, {\"v\": \"GET\"}, {\"v\": \"Interact2\"}]}, {\"c\": [{\"v\": \"2014-06-15T07:00:00.943075\"}, {\"v\": 28}, {\"v\": 200}, {\"v\": \"GET\"}, {\"v\": \"Other\"}]}, {\"c\": [{\"v\": \"2014-06-15T07:00:01.000102\"}, {\"v\": 124}, {\"v\": 405}, {\"v\": \"GET\"}, {\"v\": \"Interact2\"}]}, {\"c\": [{\"v\": \"2014-06-15T07:00:01.071107\"}, {\"v\": 49}, {\"v\": 200}, {\"v\": \"GET\"}, {\"v\": \"Interact3\"}]}, {\"c\": [{\"v\": \"2014-06-15T07:00:01.159701\"}, {\"v\": 119}, {\"v\": 200}, {\"v\": \"GET\"}, {\"v\": \"Other\"}]}], \"cols\": [{\"type\": \"datetime\", \"id\": \"timestamp\", \"label\": \"timestamp\"}, {\"type\": \"number\", \"id\": \"latency\", \"label\": \"latency\"}, {\"type\": \"number\", \"id\": \"status\", \"label\": \"status\"}, {\"type\": \"string\", \"id\": \"method\", \"label\": \"method\"}, {\"type\": \"string\", \"id\": \"endpoint\", \"label\": \"endpoint\"}]});\n",
       "        }\n",
       "      );\n",
       "    </script>\n",
       "  "
      ],
      "text/plain": [
       "QueryResultsTable job_RbdHtXxB4Sy12aKKCucO4uhb2PI"
      ]
     },
     "execution_count": 1,
     "metadata": {},
     "output_type": "execute_result"
    }
   ],
   "source": [
    "%%bigquery sample --count 10\n",
    "SELECT * FROM [cloud-datalab-samples:httplogs.logs_20140615]"
   ]
  },
  {
   "cell_type": "code",
   "execution_count": 2,
   "metadata": {
    "collapsed": false
   },
   "outputs": [
    {
     "data": {
      "text/html": [
       "\n",
       "    <div class=\"bqtv\" id=\"2_145411798824\"><table><tr><th>endpoint</th></tr><tr><td>Interact3</td></tr><tr><td>Interact2</td></tr><tr><td>Other</td></tr><tr><td>Popular</td></tr><tr><td>Home</td></tr><tr><td>Create</td></tr><tr><td>Admin</td></tr><tr><td>Interact1</td></tr><tr><td>Warmup</td></tr><tr><td>Recent</td></tr></table></div>\n",
       "    <br />(rows: 10, time: 1.2s, cached, job: job_Iy43tF0Qi6EKEV6iJZveQsJdiPU)<br />\n",
       "    <script>\n",
       "      require(['extensions/charting', 'element!2_145411798824', 'style!/static/extensions/charting.css'],\n",
       "        function(charts, dom) {\n",
       "          charts.render(dom,\n",
       "            {\n",
       "              chartStyle:\"table\",\n",
       "              dataName:\"1\",\n",
       "              fields:\"endpoint\",\n",
       "              totalRows:10,\n",
       "              rowsPerPage:25,\n",
       "            }, {}, {\"rows\": [{\"c\": [{\"v\": \"Interact3\"}]}, {\"c\": [{\"v\": \"Interact2\"}]}, {\"c\": [{\"v\": \"Other\"}]}, {\"c\": [{\"v\": \"Popular\"}]}, {\"c\": [{\"v\": \"Home\"}]}, {\"c\": [{\"v\": \"Create\"}]}, {\"c\": [{\"v\": \"Admin\"}]}, {\"c\": [{\"v\": \"Interact1\"}]}, {\"c\": [{\"v\": \"Warmup\"}]}, {\"c\": [{\"v\": \"Recent\"}]}], \"cols\": [{\"type\": \"string\", \"id\": \"endpoint\", \"label\": \"endpoint\"}]});\n",
       "        }\n",
       "      );\n",
       "    </script>\n",
       "  "
      ],
      "text/plain": [
       "QueryResultsTable job_Iy43tF0Qi6EKEV6iJZveQsJdiPU"
      ]
     },
     "execution_count": 2,
     "metadata": {},
     "output_type": "execute_result"
    }
   ],
   "source": [
    "%%sql\n",
    "SELECT endpoint FROM [cloud-datalab-samples:httplogs.logs_20140615] GROUP BY endpoint"
   ]
  },
  {
   "cell_type": "markdown",
   "metadata": {},
   "source": [
    "# Parameterization via SQL Modules\n",
    "\n",
    "Parameters are declared in SQL modules using a `name = default_value` syntax before the SQL, and then using `$name` within the SQL to reference the parameter."
   ]
  },
  {
   "cell_type": "code",
   "execution_count": 3,
   "metadata": {
    "collapsed": false
   },
   "outputs": [],
   "source": [
    "%%sql --module endpoint_stats\n",
    "endpoint = 'Other'\n",
    "\n",
    "SELECT endpoint, COUNT(latency) As requests, MIN(latency) AS min_latency, MAX(latency) AS max_latency\n",
    "FROM [cloud-datalab-samples:httplogs.logs_20140615]\n",
    "WHERE endpoint = $endpoint\n",
    "GROUP BY endpoint"
   ]
  },
  {
   "cell_type": "markdown",
   "metadata": {},
   "source": [
    "This just defined a SQL query with a String `name` parameter named endpoint, which defaults to the value Other, as you'll see when the query is used to sample data without specifying a specific value."
   ]
  },
  {
   "cell_type": "code",
   "execution_count": 4,
   "metadata": {
    "collapsed": false
   },
   "outputs": [
    {
     "data": {
      "text/html": [
       "\n",
       "    <div class=\"bqtv\" id=\"3_145411799032\"><table><tr><th>endpoint</th><th>requests</th><th>min_latency</th><th>max_latency</th></tr><tr><td>Other</td><td>326889</td><td>1</td><td>121277</td></tr></table></div>\n",
       "    <br />(rows: 1, time: 1.1s, cached, job: job_izR9cfl6auOUla7LrsWrUSqd0vE)<br />\n",
       "    <script>\n",
       "      require(['extensions/charting', 'element!3_145411799032', 'style!/static/extensions/charting.css'],\n",
       "        function(charts, dom) {\n",
       "          charts.render(dom,\n",
       "            {\n",
       "              chartStyle:\"table\",\n",
       "              dataName:\"2\",\n",
       "              fields:\"endpoint,requests,min_latency,max_latency\",\n",
       "              totalRows:1,\n",
       "              rowsPerPage:25,\n",
       "            }, {}, {\"rows\": [{\"c\": [{\"v\": \"Other\"}, {\"v\": 326889}, {\"v\": 1}, {\"v\": 121277}]}], \"cols\": [{\"type\": \"string\", \"id\": \"endpoint\", \"label\": \"endpoint\"}, {\"type\": \"number\", \"id\": \"requests\", \"label\": \"requests\"}, {\"type\": \"number\", \"id\": \"min_latency\", \"label\": \"min_latency\"}, {\"type\": \"number\", \"id\": \"max_latency\", \"label\": \"max_latency\"}]});\n",
       "        }\n",
       "      );\n",
       "    </script>\n",
       "  "
      ],
      "text/plain": [
       "QueryResultsTable job_izR9cfl6auOUla7LrsWrUSqd0vE"
      ]
     },
     "execution_count": 4,
     "metadata": {},
     "output_type": "execute_result"
    }
   ],
   "source": [
    "%%bigquery execute --query endpoint_stats"
   ]
  },
  {
   "cell_type": "markdown",
   "metadata": {},
   "source": [
    "## Declarative Query Execution"
   ]
  },
  {
   "cell_type": "markdown",
   "metadata": {},
   "source": [
    "Parameter values can be specified with a `%%bigquery sample` command as follows (parameter values defined in a YAML block):"
   ]
  },
  {
   "cell_type": "code",
   "execution_count": 5,
   "metadata": {
    "collapsed": false
   },
   "outputs": [
    {
     "data": {
      "text/html": [
       "\n",
       "    <div class=\"bqtv\" id=\"4_145411799221\"><table><tr><th>endpoint</th><th>requests</th><th>min_latency</th><th>max_latency</th></tr><tr><td>Recent</td><td>734</td><td>2</td><td>18715</td></tr></table></div>\n",
       "    <br />(rows: 1, time: 1.0s, cached, job: job_dCHc7nFA5kpLVH7Af4SObvh7e3I)<br />\n",
       "    <script>\n",
       "      require(['extensions/charting', 'element!4_145411799221', 'style!/static/extensions/charting.css'],\n",
       "        function(charts, dom) {\n",
       "          charts.render(dom,\n",
       "            {\n",
       "              chartStyle:\"table\",\n",
       "              dataName:\"3\",\n",
       "              fields:\"endpoint,requests,min_latency,max_latency\",\n",
       "              totalRows:1,\n",
       "              rowsPerPage:25,\n",
       "            }, {}, {\"rows\": [{\"c\": [{\"v\": \"Recent\"}, {\"v\": 734}, {\"v\": 2}, {\"v\": 18715}]}], \"cols\": [{\"type\": \"string\", \"id\": \"endpoint\", \"label\": \"endpoint\"}, {\"type\": \"number\", \"id\": \"requests\", \"label\": \"requests\"}, {\"type\": \"number\", \"id\": \"min_latency\", \"label\": \"min_latency\"}, {\"type\": \"number\", \"id\": \"max_latency\", \"label\": \"max_latency\"}]});\n",
       "        }\n",
       "      );\n",
       "    </script>\n",
       "  "
      ],
      "text/plain": [
       "QueryResultsTable job_dCHc7nFA5kpLVH7Af4SObvh7e3I"
      ]
     },
     "execution_count": 5,
     "metadata": {},
     "output_type": "execute_result"
    }
   ],
   "source": [
    "%%bigquery execute --query endpoint_stats\n",
    "endpoint: Recent"
   ]
  },
  {
   "cell_type": "markdown",
   "metadata": {},
   "source": [
    "The YAML text can reference values defined in the notebook as well, using again, the `$variable` syntax."
   ]
  },
  {
   "cell_type": "code",
   "execution_count": 6,
   "metadata": {
    "collapsed": true
   },
   "outputs": [],
   "source": [
    "interesting_endpoint = 'Popular'"
   ]
  },
  {
   "cell_type": "code",
   "execution_count": 7,
   "metadata": {
    "collapsed": false
   },
   "outputs": [
    {
     "data": {
      "text/html": [
       "\n",
       "    <div class=\"bqtv\" id=\"5_145411799399\"><table><tr><th>endpoint</th><th>requests</th><th>min_latency</th><th>max_latency</th></tr><tr><td>Popular</td><td>7658</td><td>2</td><td>6443</td></tr></table></div>\n",
       "    <br />(rows: 1, time: 1.0s, cached, job: job_Vz1frCH5L4mqfaiOtObzO62hvT0)<br />\n",
       "    <script>\n",
       "      require(['extensions/charting', 'element!5_145411799399', 'style!/static/extensions/charting.css'],\n",
       "        function(charts, dom) {\n",
       "          charts.render(dom,\n",
       "            {\n",
       "              chartStyle:\"table\",\n",
       "              dataName:\"4\",\n",
       "              fields:\"endpoint,requests,min_latency,max_latency\",\n",
       "              totalRows:1,\n",
       "              rowsPerPage:25,\n",
       "            }, {}, {\"rows\": [{\"c\": [{\"v\": \"Popular\"}, {\"v\": 7658}, {\"v\": 2}, {\"v\": 6443}]}], \"cols\": [{\"type\": \"string\", \"id\": \"endpoint\", \"label\": \"endpoint\"}, {\"type\": \"number\", \"id\": \"requests\", \"label\": \"requests\"}, {\"type\": \"number\", \"id\": \"min_latency\", \"label\": \"min_latency\"}, {\"type\": \"number\", \"id\": \"max_latency\", \"label\": \"max_latency\"}]});\n",
       "        }\n",
       "      );\n",
       "    </script>\n",
       "  "
      ],
      "text/plain": [
       "QueryResultsTable job_Vz1frCH5L4mqfaiOtObzO62hvT0"
      ]
     },
     "execution_count": 7,
     "metadata": {},
     "output_type": "execute_result"
    }
   ],
   "source": [
    "%%bigquery execute --query endpoint_stats\n",
    "endpoint: $interesting_endpoint"
   ]
  },
  {
   "cell_type": "markdown",
   "metadata": {},
   "source": [
    "## Imperative Query Execution\n",
    "\n",
    "Parameter values can be passed to BigQuery APIs when constructing a `Query` object."
   ]
  },
  {
   "cell_type": "code",
   "execution_count": 8,
   "metadata": {
    "collapsed": true
   },
   "outputs": [],
   "source": [
    "import gcp.bigquery as bq"
   ]
  },
  {
   "cell_type": "code",
   "execution_count": 9,
   "metadata": {
    "collapsed": false
   },
   "outputs": [
    {
     "name": "stdout",
     "output_type": "stream",
     "text": [
      "SELECT endpoint, COUNT(latency) As requests, MIN(latency) AS min_latency, MAX(latency) AS max_latency\n",
      "FROM [cloud-datalab-samples:httplogs.logs_20140615]\n",
      "WHERE endpoint = \"Popular\"\n",
      "GROUP BY endpoint\n"
     ]
    }
   ],
   "source": [
    "stats_query = bq.Query(endpoint_stats, endpoint = interesting_endpoint)\n",
    "print stats_query.sql"
   ]
  },
  {
   "cell_type": "markdown",
   "metadata": {},
   "source": [
    "From the SQL above, you can see above the value for the `$endpoint` variable was expanded out. The parameter replacement happens locally, before the resulting SQL is sent to BigQuery."
   ]
  },
  {
   "cell_type": "code",
   "execution_count": 10,
   "metadata": {
    "collapsed": false
   },
   "outputs": [
    {
     "data": {
      "text/html": [
       "\n",
       "    <div class=\"bqtv\" id=\"6_145411799590\"><table><tr><th>endpoint</th><th>requests</th><th>min_latency</th><th>max_latency</th></tr><tr><td>Popular</td><td>7658</td><td>2</td><td>6443</td></tr></table></div>\n",
       "    <br />(rows: 1, time: 1.0s, cached, job: job_ZLHKE5YJ4fCR81bD1GVF2pn_6oQ)<br />\n",
       "    <script>\n",
       "      require(['extensions/charting', 'element!6_145411799590', 'style!/static/extensions/charting.css'],\n",
       "        function(charts, dom) {\n",
       "          charts.render(dom,\n",
       "            {\n",
       "              chartStyle:\"table\",\n",
       "              dataName:\"4\",\n",
       "              fields:\"endpoint,requests,min_latency,max_latency\",\n",
       "              totalRows:1,\n",
       "              rowsPerPage:25,\n",
       "            }, {}, {\"rows\": [{\"c\": [{\"v\": \"Popular\"}, {\"v\": 7658}, {\"v\": 2}, {\"v\": 6443}]}], \"cols\": [{\"type\": \"string\", \"id\": \"endpoint\", \"label\": \"endpoint\"}, {\"type\": \"number\", \"id\": \"requests\", \"label\": \"requests\"}, {\"type\": \"number\", \"id\": \"min_latency\", \"label\": \"min_latency\"}, {\"type\": \"number\", \"id\": \"max_latency\", \"label\": \"max_latency\"}]});\n",
       "        }\n",
       "      );\n",
       "    </script>\n",
       "  "
      ],
      "text/plain": [
       "QueryResultsTable job_ZLHKE5YJ4fCR81bD1GVF2pn_6oQ"
      ]
     },
     "execution_count": 10,
     "metadata": {},
     "output_type": "execute_result"
    }
   ],
   "source": [
    "stats_query.results()"
   ]
  },
  {
   "cell_type": "markdown",
   "metadata": {},
   "source": [
    "# Looking Ahead\n",
    "\n",
    "Parameterization enables one-half of SQL and Python integration - being able to use values in Python code, in the notebook, and passing them in as part of the query when retrieving data from BigQuery.\n",
    "\n",
    "The next notebook will cover the second-half of SQL and Python integration - retrieving query results into the notebook for use with Python code.\n",
    "\n",
    "Parameterization is also the building block toward creating complex queries, where whole queries can be used as parameter values."
   ]
  }
 ],
 "metadata": {
  "kernelspec": {
   "display_name": "Python 2",
   "language": "python",
   "name": "python2"
  },
  "language_info": {
   "codemirror_mode": {
    "name": "ipython",
    "version": 2
   },
   "file_extension": ".py",
   "mimetype": "text/x-python",
   "name": "python",
   "nbconvert_exporter": "python",
   "pygments_lexer": "ipython2",
   "version": "2.7.9"
  }
 },
 "nbformat": 4,
 "nbformat_minor": 0
}
