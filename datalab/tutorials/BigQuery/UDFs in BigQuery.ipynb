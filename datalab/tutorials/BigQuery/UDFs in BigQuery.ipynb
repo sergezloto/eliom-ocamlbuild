{
 "cells": [
  {
   "cell_type": "markdown",
   "metadata": {},
   "source": [
    "# UDFs in BigQuery\n",
    "\n",
    "This notebook shows how to use Javascript UDFs (user-defined functions) in BigQuery. UDFs allow you to operate on a row of a table at a time, performing arbitrary transformations. A UDF is similar to the \"Map\" function in a MapReduce: it takes a single row as input and produces zero or more rows as output. The output can potentially have a different schema than the input.\n",
    "\n",
    "Note that your UDFs should be stateless; i.e. you should not assume the availability of global state where the outputs of one call can affect the results of a later call. This is not because you can't create persistent state (you can; the function and any functions it calls are examples of that), but because your computation is distributed across multiple nodes and so you cannot guarantee consistency across the nodes.\n",
    "\n",
    "As an aside, you may sometimes see the term TVF (Table Valued Function) in BigQuery error messages that are really concerning your UDF.\n",
    "\n",
    "You can read more about UDFs [here](https://cloud.google.com/bigquery/user-defined-functions)\n"
   ]
  },
  {
   "cell_type": "markdown",
   "metadata": {},
   "source": [
    "## Scenario\n",
    "\n",
    "In this notebook we are going to look at some anonymized logs that originated in Google AppEngine. These logs include the path of the URI that was requested, and in this path are a number of query parameters we are interested in. We will create a UDF that can extract the query parameters and create a table with each parameter in a separate column, which will enable us to use the logs much more easily.\n"
   ]
  },
  {
   "cell_type": "markdown",
   "metadata": {},
   "source": [
    "## Examining the Data\n",
    "\n",
    "We are going to look at a week of logs from October 2015. These logs were imported from Google AppEngine and a few relevant fields extracted and anonymized. There is a separate table for each day. Let's look at an example, starting with the schema and then some sample rows:"
   ]
  },
  {
   "cell_type": "code",
   "execution_count": 1,
   "metadata": {
    "collapsed": false
   },
   "outputs": [
    {
     "data": {
      "text/html": [
       "\n",
       "    <div class=\"bqsv\" id=\"1_144832392758\"></div>\n",
       "    <script>\n",
       "      require(['extensions/bigquery', 'element!1_144832392758', 'style!/static/extensions/bigquery.css'],\n",
       "        function(bq, dom) {\n",
       "          bq.renderSchema(dom, [{\"type\": \"TIMESTAMP\", \"name\": \"timestamp\", \"mode\": \"NULLABLE\"}, {\"type\": \"STRING\", \"name\": \"method\", \"mode\": \"NULLABLE\"}, {\"type\": \"INTEGER\", \"name\": \"status\", \"mode\": \"NULLABLE\"}, {\"type\": \"FLOAT\", \"name\": \"latency\", \"mode\": \"NULLABLE\"}, {\"type\": \"STRING\", \"name\": \"path\", \"mode\": \"NULLABLE\"}]);\n",
       "        }\n",
       "      );\n",
       "    </script>\n",
       "    "
      ],
      "text/plain": [
       "<IPython.core.display.HTML object>"
      ]
     },
     "execution_count": 1,
     "metadata": {},
     "output_type": "execute_result"
    }
   ],
   "source": [
    "%bigquery schema --table cloud-datalab-samples:appenginelogs.sample_logs_20151027"
   ]
  },
  {
   "cell_type": "code",
   "execution_count": 2,
   "metadata": {
    "collapsed": false
   },
   "outputs": [
    {
     "data": {
      "text/html": [
       "\n",
       "    <div class=\"bqtv\" id=\"2_144832392967\"><table><tr><th>timestamp</th><th>method</th><th>status</th><th>latency</th><th>path</th></tr><tr><td>2015-10-27 01:03:10.959946</td><td>POST</td><td>204</td><td>0.003195</td><td>/log/page?project=36&amp;instance=40&amp;user=131&amp;page=detail&amp;path=38&amp;version=0.1.1&amp;release=alpha</td></tr><tr><td>2015-10-27 00:57:44.694484</td><td>POST</td><td>204</td><td>0.003418</td><td>/log/start?project=143&amp;instance=215&amp;user=2&amp;page=master&amp;path=3&amp;version=0.1.1&amp;release=alpha</td></tr><tr><td>2015-10-27 22:00:47.660171</td><td>POST</td><td>204</td><td>0.00337</td><td>/log/signin?project=5&amp;instance=2&amp;user=54&amp;page=master&amp;path=3&amp;version=0.1.1&amp;release=alpha</td></tr><tr><td>2015-10-27 20:10:19.547390</td><td>POST</td><td>204</td><td>0.00368</td><td>/log/start?project=149&amp;instance=232&amp;user=2&amp;page=master&amp;path=3&amp;version=0.1.1&amp;release=alpha</td></tr><tr><td>2015-10-27 01:24:18.065954</td><td>POST</td><td>204</td><td>0.003023</td><td>/log/page?project=20&amp;instance=29&amp;user=42&amp;page=detail&amp;path=6&amp;version=0.1.1&amp;release=alpha</td></tr></table></div>\n",
       "    <br />(rows: 5, time: 1.3s,     0B processed, job: job_z0o9VN_RTXHiCEmol03qrzgDA4I)<br />\n",
       "    <script>\n",
       "      require(['extensions/charting', 'element!2_144832392967', 'style!/static/extensions/charting.css'],\n",
       "        function(charts, dom) {\n",
       "          charts.render(dom,\n",
       "            {\n",
       "              chartStyle:\"table\",\n",
       "              dataName:\"0\",\n",
       "              fields:\"timestamp,method,status,latency,path\",\n",
       "              totalRows:5,\n",
       "              rowsPerPage:25,\n",
       "            }, {}, {\"rows\": [{\"c\": [{\"v\": \"2015-10-27T01:03:10.959946\"}, {\"v\": \"POST\"}, {\"v\": 204}, {\"v\": 0.003195}, {\"v\": \"/log/page?project=36&instance=40&user=131&page=detail&path=38&version=0.1.1&release=alpha\"}]}, {\"c\": [{\"v\": \"2015-10-27T00:57:44.694484\"}, {\"v\": \"POST\"}, {\"v\": 204}, {\"v\": 0.003418}, {\"v\": \"/log/start?project=143&instance=215&user=2&page=master&path=3&version=0.1.1&release=alpha\"}]}, {\"c\": [{\"v\": \"2015-10-27T22:00:47.660171\"}, {\"v\": \"POST\"}, {\"v\": 204}, {\"v\": 0.00337}, {\"v\": \"/log/signin?project=5&instance=2&user=54&page=master&path=3&version=0.1.1&release=alpha\"}]}, {\"c\": [{\"v\": \"2015-10-27T20:10:19.547390\"}, {\"v\": \"POST\"}, {\"v\": 204}, {\"v\": 0.00368}, {\"v\": \"/log/start?project=149&instance=232&user=2&page=master&path=3&version=0.1.1&release=alpha\"}]}, {\"c\": [{\"v\": \"2015-10-27T01:24:18.065954\"}, {\"v\": \"POST\"}, {\"v\": 204}, {\"v\": 0.003023}, {\"v\": \"/log/page?project=20&instance=29&user=42&page=detail&path=6&version=0.1.1&release=alpha\"}]}], \"cols\": [{\"type\": \"datetime\", \"id\": \"timestamp\", \"label\": \"timestamp\"}, {\"type\": \"string\", \"id\": \"method\", \"label\": \"method\"}, {\"type\": \"number\", \"id\": \"status\", \"label\": \"status\"}, {\"type\": \"number\", \"id\": \"latency\", \"label\": \"latency\"}, {\"type\": \"string\", \"id\": \"path\", \"label\": \"path\"}]});\n",
       "        }\n",
       "      );\n",
       "    </script>\n",
       "  "
      ],
      "text/plain": [
       "QueryResultsTable job_z0o9VN_RTXHiCEmol03qrzgDA4I"
      ]
     },
     "execution_count": 2,
     "metadata": {},
     "output_type": "execute_result"
    }
   ],
   "source": [
    "%bigquery sample --count 5 --table cloud-datalab-samples:appenginelogs.sample_logs_20151027"
   ]
  },
  {
   "cell_type": "markdown",
   "metadata": {},
   "source": [
    "You can see we have 5 columns, with the 'path' column being the one that needs the most processing. Each URL has the form 'log/event?params', where params can be one of project, instance, user, page, path, version, or release. We are going to extract each of these out into a separate column."
   ]
  },
  {
   "cell_type": "markdown",
   "metadata": {},
   "source": [
    "## Creating and Testing the UDF\n",
    "\n",
    "UDFs are Javascript functions that take a row object and emitter function as input; they perform some computation and then call the emitter function to output a result row object. If you have read the normal BigQuery documentation on UDFs you will have read about the `defineFunction` call that is needed to define the UDF including input fields, output schema, and so on. Cloud Datalab is a bit simpler; we make use of jsdoc-style @param comments to achieve the same end. Another important thing to note is that the UDF function should not have a name or be assigned to a variable. It should ideally be stateless, but it can call support functions as demonstrated below."
   ]
  },
  {
   "cell_type": "code",
   "execution_count": 3,
   "metadata": {
    "collapsed": false
   },
   "outputs": [],
   "source": [
    "%%bigquery udf --module extract_params\n",
    "\n",
    "/**\n",
    " * A helper function to split a set of URL query parameters into an object\n",
    " * as key/value properties.\n",
    " */\n",
    "function getParameters(path) {\n",
    "  var re = /[?&]([^=]*)=([^&]*)/g;\n",
    "  var result = {};\n",
    "  var match;\n",
    "  while ((match = re.exec(path)) != null) {\n",
    "    result[match[1]] = decodeURIComponent(match[2]);\n",
    "  }\n",
    "  return result;  \n",
    "}\n",
    "\n",
    "/**\n",
    " * Our UDF function, which takes a row r and emitter function emitFn.\n",
    " * We assume each row r has the five columns from our input (timestamp, \n",
    " * method, latency, status and path). We will parse path from the input\n",
    " * and add its constituent parts, then call the emitter.\n",
    " *\n",
    " * Note: we re-use r for the output as we are keeping its fields but we\n",
    " * could have created a new object if that was more appropriate.\n",
    " *\n",
    " * We define the two parameters below and specify the schema of the input row and\n",
    " * the output row.\n",
    " *\n",
    " * @param {{timestamp: timestamp, method: string, status: integer, latency: float,\n",
    " *     path: string}} r\n",
    " * @param function({{timestamp: timestamp, method: string, status:integer, latency: float,\n",
    " *      path: string, event: string, project: string, instance: string, user: string,\n",
    " *      page: string, version: string, release: string}}) emitFn\n",
    " */\n",
    "function(r, emitFn) {\n",
    "  var q = getParameters(r.path);\n",
    "  var split = r.path.indexOf('?');\n",
    "  r.event = r.path.substr(5, split - 5);\n",
    "  r.project = q.project;\n",
    "  r.instance = q.instance;\n",
    "  r.user = q.user;\n",
    "  r.page = q.page;\n",
    "  r.path = q.path;\n",
    "  r.version = q.version;\n",
    "  r.release = q.release;\n",
    "  emitFn(r);\n",
    "}\n"
   ]
  },
  {
   "cell_type": "markdown",
   "metadata": {},
   "source": [
    "Now we can try calling the UDF. We need to define a query to do this. Note that we just call our UDF much like any other function, although it must be applied to a tabular argument (either a table or table decorator, a query, or another UDF). "
   ]
  },
  {
   "cell_type": "code",
   "execution_count": 4,
   "metadata": {
    "collapsed": false
   },
   "outputs": [
    {
     "data": {
      "text/html": [
       "\n",
       "    <div class=\"bqtv\" id=\"3_144832393678\"><table><tr><th>timestamp</th><th>method</th><th>status</th><th>latency</th><th>path</th><th>event</th><th>project</th><th>instance</th><th>user</th><th>page</th><th>version</th><th>release</th></tr><tr><td>2015-10-27 01:03:10.959946</td><td>POST</td><td>204</td><td>0.003195</td><td>38</td><td>page</td><td>36</td><td>40</td><td>131</td><td>detail</td><td>0.1.1</td><td>alpha</td></tr><tr><td>2015-10-27 00:57:44.694484</td><td>POST</td><td>204</td><td>0.003418</td><td>3</td><td>start</td><td>143</td><td>215</td><td>2</td><td>master</td><td>0.1.1</td><td>alpha</td></tr><tr><td>2015-10-27 22:00:47.660171</td><td>POST</td><td>204</td><td>0.00337</td><td>3</td><td>signin</td><td>5</td><td>2</td><td>54</td><td>master</td><td>0.1.1</td><td>alpha</td></tr><tr><td>2015-10-27 20:10:19.547390</td><td>POST</td><td>204</td><td>0.00368</td><td>3</td><td>start</td><td>149</td><td>232</td><td>2</td><td>master</td><td>0.1.1</td><td>alpha</td></tr><tr><td>2015-10-27 01:24:18.065954</td><td>POST</td><td>204</td><td>0.003023</td><td>6</td><td>page</td><td>20</td><td>29</td><td>42</td><td>detail</td><td>0.1.1</td><td>alpha</td></tr></table></div>\n",
       "    <br />(rows: 5, time: 6.0s,     0B processed, job: job_nCbiJKEiwarI-Ag5TcLIXLj8hbs)<br />\n",
       "    <script>\n",
       "      require(['extensions/charting', 'element!3_144832393678', 'style!/static/extensions/charting.css'],\n",
       "        function(charts, dom) {\n",
       "          charts.render(dom,\n",
       "            {\n",
       "              chartStyle:\"table\",\n",
       "              dataName:\"1\",\n",
       "              fields:\"timestamp,method,status,latency,path,event,project,instance,user,page,version,release\",\n",
       "              totalRows:5,\n",
       "              rowsPerPage:25,\n",
       "            }, {}, {\"rows\": [{\"c\": [{\"v\": \"2015-10-27T01:03:10.959946\"}, {\"v\": \"POST\"}, {\"v\": 204}, {\"v\": 0.003195}, {\"v\": \"38\"}, {\"v\": \"page\"}, {\"v\": \"36\"}, {\"v\": \"40\"}, {\"v\": \"131\"}, {\"v\": \"detail\"}, {\"v\": \"0.1.1\"}, {\"v\": \"alpha\"}]}, {\"c\": [{\"v\": \"2015-10-27T00:57:44.694484\"}, {\"v\": \"POST\"}, {\"v\": 204}, {\"v\": 0.003418}, {\"v\": \"3\"}, {\"v\": \"start\"}, {\"v\": \"143\"}, {\"v\": \"215\"}, {\"v\": \"2\"}, {\"v\": \"master\"}, {\"v\": \"0.1.1\"}, {\"v\": \"alpha\"}]}, {\"c\": [{\"v\": \"2015-10-27T22:00:47.660171\"}, {\"v\": \"POST\"}, {\"v\": 204}, {\"v\": 0.00337}, {\"v\": \"3\"}, {\"v\": \"signin\"}, {\"v\": \"5\"}, {\"v\": \"2\"}, {\"v\": \"54\"}, {\"v\": \"master\"}, {\"v\": \"0.1.1\"}, {\"v\": \"alpha\"}]}, {\"c\": [{\"v\": \"2015-10-27T20:10:19.547390\"}, {\"v\": \"POST\"}, {\"v\": 204}, {\"v\": 0.00368}, {\"v\": \"3\"}, {\"v\": \"start\"}, {\"v\": \"149\"}, {\"v\": \"232\"}, {\"v\": \"2\"}, {\"v\": \"master\"}, {\"v\": \"0.1.1\"}, {\"v\": \"alpha\"}]}, {\"c\": [{\"v\": \"2015-10-27T01:24:18.065954\"}, {\"v\": \"POST\"}, {\"v\": 204}, {\"v\": 0.003023}, {\"v\": \"6\"}, {\"v\": \"page\"}, {\"v\": \"20\"}, {\"v\": \"29\"}, {\"v\": \"42\"}, {\"v\": \"detail\"}, {\"v\": \"0.1.1\"}, {\"v\": \"alpha\"}]}], \"cols\": [{\"type\": \"datetime\", \"id\": \"timestamp\", \"label\": \"timestamp\"}, {\"type\": \"string\", \"id\": \"method\", \"label\": \"method\"}, {\"type\": \"number\", \"id\": \"status\", \"label\": \"status\"}, {\"type\": \"number\", \"id\": \"latency\", \"label\": \"latency\"}, {\"type\": \"string\", \"id\": \"path\", \"label\": \"path\"}, {\"type\": \"string\", \"id\": \"event\", \"label\": \"event\"}, {\"type\": \"string\", \"id\": \"project\", \"label\": \"project\"}, {\"type\": \"string\", \"id\": \"instance\", \"label\": \"instance\"}, {\"type\": \"string\", \"id\": \"user\", \"label\": \"user\"}, {\"type\": \"string\", \"id\": \"page\", \"label\": \"page\"}, {\"type\": \"string\", \"id\": \"version\", \"label\": \"version\"}, {\"type\": \"string\", \"id\": \"release\", \"label\": \"release\"}]});\n",
       "        }\n",
       "      );\n",
       "    </script>\n",
       "  "
      ],
      "text/plain": [
       "QueryResultsTable job_nCbiJKEiwarI-Ag5TcLIXLj8hbs"
      ]
     },
     "execution_count": 4,
     "metadata": {},
     "output_type": "execute_result"
    }
   ],
   "source": [
    "%%sql \n",
    "\n",
    "SELECT * FROM extract_params([cloud-datalab-samples:appenginelogs.sample_logs_20151027])\n",
    "LIMIT 5"
   ]
  },
  {
   "cell_type": "markdown",
   "metadata": {},
   "source": [
    "## Next Steps\n",
    "\n",
    "You can learn how to test your UDF in the notebook by following the tutorial [UDF Testing in the Notebook](notebooks/datalab/tutorials/BigQuery/UDF%20Testing%20in%20the%20Notebook.ipynb). If you have code that you use regularly in your UDFs you can factor that out and put it in Google Cloud Storage then import it; this is covered in the tutorial  [UDFs using Code in Cloud Storage](notebooks/datalab/tutorials/BigQuery/UDFs%20using%20Code%20in%20Cloud%20Storage.ipynb)."
   ]
  },
  {
   "cell_type": "code",
   "execution_count": null,
   "metadata": {
    "collapsed": true
   },
   "outputs": [],
   "source": []
  }
 ],
 "metadata": {
  "kernelspec": {
   "display_name": "Python 2",
   "language": "python",
   "name": "python2"
  },
  "language_info": {
   "codemirror_mode": {
    "name": "ipython",
    "version": 2
   },
   "file_extension": ".py",
   "mimetype": "text/x-python",
   "name": "python",
   "nbconvert_exporter": "python",
   "pygments_lexer": "ipython2",
   "version": "2.7.9"
  }
 },
 "nbformat": 4,
 "nbformat_minor": 0
}
