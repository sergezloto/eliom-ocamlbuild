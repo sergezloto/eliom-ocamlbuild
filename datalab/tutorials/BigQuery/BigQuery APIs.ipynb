{
 "cells": [
  {
   "cell_type": "markdown",
   "metadata": {},
   "source": [
    "# BigQuery APIs\n",
    "\n",
    "Cloud Datalab provides an integrated environment for working with BigQuery for both adhoc, exploratory work as well as pipeline development. This notebook introduces some of the APIs that Cloud Datalab provides for working with BigQuery.\n",
    "\n",
    "You've already seen the use of `%%sql` in the [Hello BigQuery](Hello BigQuery.ipynb) notebook, and various `%%bigquery` commands in the [BigQuery Commands](BigQuery Commands.ipynb) notebook. These BigQuery commands are built using the same BigQuery APIs that are available for your own use."
   ]
  },
  {
   "cell_type": "markdown",
   "metadata": {},
   "source": [
    "## Importing the API\n",
    "\n",
    "The Cloud Datalab APIs are provided in the `gcpdata` Python library and the BigQuery functionality is contained within the `gcp.bigquery` module."
   ]
  },
  {
   "cell_type": "code",
   "execution_count": 1,
   "metadata": {
    "collapsed": true
   },
   "outputs": [],
   "source": [
    "import gcp.bigquery as bq"
   ]
  },
  {
   "cell_type": "markdown",
   "metadata": {},
   "source": [
    "# Querying Data\n",
    "\n",
    "The most important API with BigQuery is the one that allows you to execute a SQL query. The `bq.Query` class provides that functionality."
   ]
  },
  {
   "cell_type": "code",
   "execution_count": 2,
   "metadata": {
    "collapsed": false
   },
   "outputs": [
    {
     "data": {
      "text/html": [
       "\n",
       "    <div class=\"bqtv\" id=\"1_145411388194\"><table><tr><th>timestamp</th><th>latency</th><th>status</th><th>method</th><th>endpoint</th></tr><tr><td>2014-06-15 07:00:00.003772</td><td>122</td><td>200</td><td>GET</td><td>Interact3</td></tr><tr><td>2014-06-15 07:00:00.428897</td><td>144</td><td>200</td><td>GET</td><td>Interact3</td></tr><tr><td>2014-06-15 07:00:00.536486</td><td>48</td><td>200</td><td>GET</td><td>Interact3</td></tr></table></div>\n",
       "    <br />(rows: 3, time: -31.8s, cached, job: job_lmsqmH41B6wN_6Jjd2D7bSCrsB4)<br />\n",
       "    <script>\n",
       "      require(['extensions/charting', 'element!1_145411388194', 'style!/static/extensions/charting.css'],\n",
       "        function(charts, dom) {\n",
       "          charts.render(dom,\n",
       "            {\n",
       "              chartStyle:\"table\",\n",
       "              dataName:\"0\",\n",
       "              fields:\"timestamp,latency,status,method,endpoint\",\n",
       "              totalRows:3,\n",
       "              rowsPerPage:25,\n",
       "            }, {}, {\"rows\": [{\"c\": [{\"v\": \"2014-06-15T07:00:00.003772\"}, {\"v\": 122}, {\"v\": 200}, {\"v\": \"GET\"}, {\"v\": \"Interact3\"}]}, {\"c\": [{\"v\": \"2014-06-15T07:00:00.428897\"}, {\"v\": 144}, {\"v\": 200}, {\"v\": \"GET\"}, {\"v\": \"Interact3\"}]}, {\"c\": [{\"v\": \"2014-06-15T07:00:00.536486\"}, {\"v\": 48}, {\"v\": 200}, {\"v\": \"GET\"}, {\"v\": \"Interact3\"}]}], \"cols\": [{\"type\": \"datetime\", \"id\": \"timestamp\", \"label\": \"timestamp\"}, {\"type\": \"number\", \"id\": \"latency\", \"label\": \"latency\"}, {\"type\": \"number\", \"id\": \"status\", \"label\": \"status\"}, {\"type\": \"string\", \"id\": \"method\", \"label\": \"method\"}, {\"type\": \"string\", \"id\": \"endpoint\", \"label\": \"endpoint\"}]});\n",
       "        }\n",
       "      );\n",
       "    </script>\n",
       "  "
      ],
      "text/plain": [
       "QueryResultsTable job_lmsqmH41B6wN_6Jjd2D7bSCrsB4"
      ]
     },
     "execution_count": 2,
     "metadata": {},
     "output_type": "execute_result"
    }
   ],
   "source": [
    "# Create and run a SQL query\n",
    "bq.Query('SELECT * FROM [cloud-datalab-samples:httplogs.logs_20140615] LIMIT 3').results()"
   ]
  },
  {
   "cell_type": "markdown",
   "metadata": {},
   "source": [
    "## SQL\n",
    "\n",
    "In the example above, the SQL was written as a Python string literal. In Cloud Datalab, you can also specify your query as vanilla SQL. Here is the equivalent:"
   ]
  },
  {
   "cell_type": "code",
   "execution_count": 3,
   "metadata": {
    "collapsed": true
   },
   "outputs": [],
   "source": [
    "%%sql --module logspreview\n",
    "SELECT * FROM [cloud-datalab-samples:httplogs.logs_20140615] LIMIT 3"
   ]
  },
  {
   "cell_type": "code",
   "execution_count": 4,
   "metadata": {
    "collapsed": false
   },
   "outputs": [
    {
     "data": {
      "text/html": [
       "\n",
       "    <div class=\"bqtv\" id=\"2_145411388447\"><table><tr><th>timestamp</th><th>latency</th><th>status</th><th>method</th><th>endpoint</th></tr><tr><td>2014-06-15 07:00:00.003772</td><td>122</td><td>200</td><td>GET</td><td>Interact3</td></tr><tr><td>2014-06-15 07:00:00.428897</td><td>144</td><td>200</td><td>GET</td><td>Interact3</td></tr><tr><td>2014-06-15 07:00:00.536486</td><td>48</td><td>200</td><td>GET</td><td>Interact3</td></tr></table></div>\n",
       "    <br />(rows: 3, time: -31.4s,    24MB processed, job: job_rs0NxpdPv5r_-QBpyKdWi01Oj7o)<br />\n",
       "    <script>\n",
       "      require(['extensions/charting', 'element!2_145411388447', 'style!/static/extensions/charting.css'],\n",
       "        function(charts, dom) {\n",
       "          charts.render(dom,\n",
       "            {\n",
       "              chartStyle:\"table\",\n",
       "              dataName:\"1\",\n",
       "              fields:\"timestamp,latency,status,method,endpoint\",\n",
       "              totalRows:3,\n",
       "              rowsPerPage:25,\n",
       "            }, {}, {\"rows\": [{\"c\": [{\"v\": \"2014-06-15T07:00:00.003772\"}, {\"v\": 122}, {\"v\": 200}, {\"v\": \"GET\"}, {\"v\": \"Interact3\"}]}, {\"c\": [{\"v\": \"2014-06-15T07:00:00.428897\"}, {\"v\": 144}, {\"v\": 200}, {\"v\": \"GET\"}, {\"v\": \"Interact3\"}]}, {\"c\": [{\"v\": \"2014-06-15T07:00:00.536486\"}, {\"v\": 48}, {\"v\": 200}, {\"v\": \"GET\"}, {\"v\": \"Interact3\"}]}], \"cols\": [{\"type\": \"datetime\", \"id\": \"timestamp\", \"label\": \"timestamp\"}, {\"type\": \"number\", \"id\": \"latency\", \"label\": \"latency\"}, {\"type\": \"number\", \"id\": \"status\", \"label\": \"status\"}, {\"type\": \"string\", \"id\": \"method\", \"label\": \"method\"}, {\"type\": \"string\", \"id\": \"endpoint\", \"label\": \"endpoint\"}]});\n",
       "        }\n",
       "      );\n",
       "    </script>\n",
       "  "
      ],
      "text/plain": [
       "QueryResultsTable job_rs0NxpdPv5r_-QBpyKdWi01Oj7o"
      ]
     },
     "execution_count": 4,
     "metadata": {},
     "output_type": "execute_result"
    }
   ],
   "source": [
    "# Create a query using the SQL module defined above\n",
    "q = bq.Query(logspreview)\n",
    "\n",
    "# Run the query, with caching turned off (for sample purposes only), so we're sure to be\n",
    "# able to retrieve metadata such as bytes processed from the resulting query job.\n",
    "results = q.results(use_cache = False)\n",
    "results"
   ]
  },
  {
   "cell_type": "markdown",
   "metadata": {},
   "source": [
    "The results object is a `QueryResultsTable` class, and can be enumerated like a regular Python list, in addition to retrieving metadata about the results."
   ]
  },
  {
   "cell_type": "code",
   "execution_count": 5,
   "metadata": {
    "collapsed": false
   },
   "outputs": [
    {
     "name": "stdout",
     "output_type": "stream",
     "text": [
      "SELECT * FROM [cloud-datalab-samples:httplogs.logs_20140615] LIMIT 3\n",
      "3 rows\n",
      "24152138 bytes processed\n"
     ]
    }
   ],
   "source": [
    "# Inspecting the results, and the associated job\n",
    "print results.sql\n",
    "print str(results.length) + ' rows'\n",
    "print str(results.job.bytes_processed) + ' bytes processed'"
   ]
  },
  {
   "cell_type": "code",
   "execution_count": 6,
   "metadata": {
    "collapsed": false
   },
   "outputs": [
    {
     "data": {
      "text/plain": [
       "[{u'endpoint': u'Interact3',\n",
       "  u'latency': 122,\n",
       "  u'method': u'GET',\n",
       "  u'status': 200,\n",
       "  u'timestamp': datetime.datetime(2014, 6, 15, 7, 0, 0, 3772)},\n",
       " {u'endpoint': u'Interact3',\n",
       "  u'latency': 144,\n",
       "  u'method': u'GET',\n",
       "  u'status': 200,\n",
       "  u'timestamp': datetime.datetime(2014, 6, 15, 7, 0, 0, 428897)},\n",
       " {u'endpoint': u'Interact3',\n",
       "  u'latency': 48,\n",
       "  u'method': u'GET',\n",
       "  u'status': 200,\n",
       "  u'timestamp': datetime.datetime(2014, 6, 15, 7, 0, 0, 536486)}]"
      ]
     },
     "execution_count": 6,
     "metadata": {},
     "output_type": "execute_result"
    }
   ],
   "source": [
    "# Inspect the programmatic representation;\n",
    "# Converting the QueryResultsTable to a vanilla list enables viewing the literal data,\n",
    "# as well as side-stepping the HTML rendering seen above.\n",
    "list(results)"
   ]
  },
  {
   "cell_type": "markdown",
   "metadata": {},
   "source": [
    "## Sampling with bq.Query\n",
    "\n",
    "The `Query` class has a number of other methods such as the ability to sample against it."
   ]
  },
  {
   "cell_type": "code",
   "execution_count": 7,
   "metadata": {
    "collapsed": true
   },
   "outputs": [],
   "source": [
    "%%sql --module logs\n",
    "SELECT * FROM [cloud-datalab-samples:httplogs.logs_20140615]"
   ]
  },
  {
   "cell_type": "code",
   "execution_count": 8,
   "metadata": {
    "collapsed": false
   },
   "outputs": [
    {
     "data": {
      "text/html": [
       "\n",
       "    <div class=\"bqtv\" id=\"3_145411388758\"><table><tr><th>timestamp</th><th>latency</th></tr><tr><td>2014-06-15 07:00:05.449186</td><td>6</td></tr><tr><td>2014-06-15 07:00:05.908400</td><td>5</td></tr><tr><td>2014-06-15 07:00:09.078710</td><td>30</td></tr><tr><td>2014-06-15 07:00:18.609836</td><td>28</td></tr><tr><td>2014-06-15 07:00:18.861028</td><td>119</td></tr><tr><td>2014-06-15 07:00:25.316129</td><td>712</td></tr><tr><td>2014-06-15 07:00:28.423380</td><td>211</td></tr><tr><td>2014-06-15 07:00:46.074430</td><td>501</td></tr><tr><td>2014-06-15 07:00:51.734565</td><td>124</td></tr><tr><td>2014-06-15 07:00:53.029076</td><td>121</td></tr></table></div>\n",
       "    <br />(rows: 10, time: -31.8s, cached, job: job_De66xfuemIlNFA9s-6cdbz9rPh0)<br />\n",
       "    <script>\n",
       "      require(['extensions/charting', 'element!3_145411388758', 'style!/static/extensions/charting.css'],\n",
       "        function(charts, dom) {\n",
       "          charts.render(dom,\n",
       "            {\n",
       "              chartStyle:\"table\",\n",
       "              dataName:\"2\",\n",
       "              fields:\"timestamp,latency\",\n",
       "              totalRows:10,\n",
       "              rowsPerPage:25,\n",
       "            }, {}, {\"rows\": [{\"c\": [{\"v\": \"2014-06-15T07:00:05.449186\"}, {\"v\": 6}]}, {\"c\": [{\"v\": \"2014-06-15T07:00:05.908400\"}, {\"v\": 5}]}, {\"c\": [{\"v\": \"2014-06-15T07:00:09.078710\"}, {\"v\": 30}]}, {\"c\": [{\"v\": \"2014-06-15T07:00:18.609836\"}, {\"v\": 28}]}, {\"c\": [{\"v\": \"2014-06-15T07:00:18.861028\"}, {\"v\": 119}]}, {\"c\": [{\"v\": \"2014-06-15T07:00:25.316129\"}, {\"v\": 712}]}, {\"c\": [{\"v\": \"2014-06-15T07:00:28.423380\"}, {\"v\": 211}]}, {\"c\": [{\"v\": \"2014-06-15T07:00:46.074430\"}, {\"v\": 501}]}, {\"c\": [{\"v\": \"2014-06-15T07:00:51.734565\"}, {\"v\": 124}]}, {\"c\": [{\"v\": \"2014-06-15T07:00:53.029076\"}, {\"v\": 121}]}], \"cols\": [{\"type\": \"datetime\", \"id\": \"timestamp\", \"label\": \"timestamp\"}, {\"type\": \"number\", \"id\": \"latency\", \"label\": \"latency\"}]});\n",
       "        }\n",
       "      );\n",
       "    </script>\n",
       "  "
      ],
      "text/plain": [
       "QueryResultsTable job_De66xfuemIlNFA9s-6cdbz9rPh0"
      ]
     },
     "execution_count": 8,
     "metadata": {},
     "output_type": "execute_result"
    }
   ],
   "source": [
    "# Use a hash-based sampling strategy that hashes the timestamp, and takes a 1% sample.\n",
    "# By default, all fields are chosen, but a particular projection can be specified as well.\n",
    "# Further limit to 10, since the only use of the sampled results is to display a table\n",
    "# in this case.\n",
    "sampling = bq.Sampling.hashed('timestamp', percent=1, count=10, fields = ['timestamp', 'latency'])\n",
    "sample = bq.Query(logs).sample(sampling = sampling)\n",
    "sample"
   ]
  },
  {
   "cell_type": "code",
   "execution_count": 9,
   "metadata": {
    "collapsed": false
   },
   "outputs": [
    {
     "name": "stdout",
     "output_type": "stream",
     "text": [
      "SELECT timestamp,latency FROM (SELECT * FROM [cloud-datalab-samples:httplogs.logs_20140615]) WHERE ABS(HASH(timestamp)) % 100 < 1 LIMIT 10\n"
     ]
    }
   ],
   "source": [
    "# Sampling is implemented using standard SQL constructs, and is performed in BigQuery,\n",
    "# thereby limiting the results retrieved into the notebook.\n",
    "print sample.sql"
   ]
  },
  {
   "cell_type": "markdown",
   "metadata": {},
   "source": [
    "# DataSets and Tables\n",
    "\n",
    "In addition to executing queries, BigQuery objects like DataSets, Tables and their Schemas can be accessed programmatically as well."
   ]
  },
  {
   "cell_type": "markdown",
   "metadata": {},
   "source": [
    "## Listing Resources"
   ]
  },
  {
   "cell_type": "code",
   "execution_count": 10,
   "metadata": {
    "collapsed": false
   },
   "outputs": [
    {
     "name": "stdout",
     "output_type": "stream",
     "text": [
      "DataSetName(project_id=u'cloud-datalab-samples', dataset_id=u'appenginelogs')\n",
      "DataSetName(project_id=u'cloud-datalab-samples', dataset_id=u'carprices')\n",
      "DataSetName(project_id=u'cloud-datalab-samples', dataset_id=u'httplogs')\n"
     ]
    }
   ],
   "source": [
    "datasets = bq.DataSets(project_id = 'cloud-datalab-samples')\n",
    "for ds in datasets:\n",
    "  print ds.name"
   ]
  },
  {
   "cell_type": "code",
   "execution_count": 11,
   "metadata": {
    "collapsed": false
   },
   "outputs": [
    {
     "name": "stdout",
     "output_type": "stream",
     "text": [
      "testing (100 rows - 4586 bytes)\n",
      "training (417 rows - 19086 bytes)\n"
     ]
    }
   ],
   "source": [
    "sample_dataset = list(datasets)[1]\n",
    "tables = sample_dataset.tables()\n",
    "for table in tables:\n",
    "  print '%s (%d rows - %d bytes)' % (table.name.table_id, table.metadata.rows, table.metadata.size)"
   ]
  },
  {
   "cell_type": "code",
   "execution_count": 12,
   "metadata": {
    "collapsed": false
   },
   "outputs": [
    {
     "data": {
      "text/plain": [
       "[u'timestamp', u'latency', u'status', u'method', u'endpoint']"
      ]
     },
     "execution_count": 12,
     "metadata": {},
     "output_type": "execute_result"
    }
   ],
   "source": [
    "table = bq.Table('cloud-datalab-samples:httplogs.logs_20140615')\n",
    "fields = map(lambda tsf: tsf.name, table.schema)\n",
    "fields"
   ]
  },
  {
   "cell_type": "markdown",
   "metadata": {},
   "source": [
    "## Creating Resources"
   ]
  },
  {
   "cell_type": "code",
   "execution_count": 13,
   "metadata": {
    "collapsed": false
   },
   "outputs": [
    {
     "data": {
      "text/plain": [
       "True"
      ]
     },
     "execution_count": 13,
     "metadata": {},
     "output_type": "execute_result"
    }
   ],
   "source": [
    "# Create a new dataset (this will be deleted later in the notebook)\n",
    "sample_dataset = bq.DataSet('sample')\n",
    "sample_dataset.create(friendly_name = 'Sample DataSet', description = 'Created from Sample Notebook')\n",
    "sample_dataset.exists()"
   ]
  },
  {
   "cell_type": "code",
   "execution_count": 14,
   "metadata": {
    "collapsed": false
   },
   "outputs": [],
   "source": [
    "# To create a table, we also need to create a schema.\n",
    "# Its easiest to create a schema from some existing data, so this\n",
    "# example demonstrates using an example object\n",
    "sample_row = {\n",
    "  'name': 'string value',\n",
    "  'value': 0,\n",
    "  'flag': True\n",
    "}\n",
    "sample_schema = bq.Schema.from_data([sample_row])\n",
    "\n",
    "sample_table = bq.Table(\"sample.sample_table\").create(schema = sample_schema, overwrite = True)"
   ]
  },
  {
   "cell_type": "markdown",
   "metadata": {},
   "source": [
    "You can run the cell below to see the contents of the new dataset:"
   ]
  },
  {
   "cell_type": "code",
   "execution_count": null,
   "metadata": {
    "collapsed": false
   },
   "outputs": [],
   "source": [
    "list(sample_dataset.tables())"
   ]
  },
  {
   "cell_type": "markdown",
   "metadata": {},
   "source": [
    "## Deleting Resources"
   ]
  },
  {
   "cell_type": "code",
   "execution_count": 16,
   "metadata": {
    "collapsed": false
   },
   "outputs": [],
   "source": [
    "# Clear out sample resources\n",
    "sample_dataset.delete(delete_contents = True)"
   ]
  },
  {
   "cell_type": "markdown",
   "metadata": {},
   "source": [
    "# Looking Ahead\n",
    "\n",
    "This notebook covered a small subset of the APIs. Subsequent notebooks will cover additional capabilities such as importing and exporting data into and from BigQuery tables."
   ]
  }
 ],
 "metadata": {
  "kernelspec": {
   "display_name": "Python 2",
   "language": "python",
   "name": "python2"
  },
  "language_info": {
   "codemirror_mode": {
    "name": "ipython",
    "version": 2
   },
   "file_extension": ".py",
   "mimetype": "text/x-python",
   "name": "python",
   "nbconvert_exporter": "python",
   "pygments_lexer": "ipython2",
   "version": "2.7.9"
  }
 },
 "nbformat": 4,
 "nbformat_minor": 0
}
