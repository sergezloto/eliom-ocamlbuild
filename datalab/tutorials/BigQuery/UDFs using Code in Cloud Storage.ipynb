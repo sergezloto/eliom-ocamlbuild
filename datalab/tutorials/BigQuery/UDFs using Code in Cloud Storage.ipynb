{
 "cells": [
  {
   "cell_type": "markdown",
   "metadata": {},
   "source": [
    "# UDFs using Code in Cloud Storage\n",
    "\n",
    "This notebook shows how to use Javascript UDFs (user-defined functions) in BigQuery that reference Javascript code stored in Google Cloud Storage (GCS). Storing your UDF support code in GCS allows you to re-use well-tested code and share it across multiple notebooks.\n",
    "\n",
    "Before using this tutorial you should go through the [UDFs in BigQuery](notebooks/datalab/tutorials/BigQuery/UDFs%20in%20BigQuery.ipynb) tutorial which discusses how to use UDFs in notebooks without external code, and the [UDF Testing in the Notebook](notebooks/datalab/tutorials/BigQuery/UDF%20Testing%20in%20the%20Notebook.ipynb) tutorial which shows how you can run and test your Javascript code in the notebook.\n",
    "\n",
    "You can read more about UDFs [here](https://cloud.google.com/bigquery/user-defined-functions). \n"
   ]
  },
  {
   "cell_type": "markdown",
   "metadata": {},
   "source": [
    "## Scenario\n",
    "\n",
    "This notebook uses the same scenario as before, looking at some anonymized logs that originated in Google AppEngine. \n",
    "\n",
    "With BigQuery, it is possible to store your UDFs in GCS and reference them from there. Cloud Datalab takes a slightly different approach; UDFs in GCS are not supported and must be defined in the notebook, but they can make use of support code in GCS. Thus you can factor out the bulk of your code into a Javascript library in GCS and have your UDF in the notebook be a schema specification and thin wrapper function around that code."
   ]
  },
  {
   "cell_type": "markdown",
   "metadata": {},
   "source": [
    "## Refactoring to a Thin Wrapper\n",
    "\n",
    "Let's revisit the UDF from before and look at how we can move the code to GCS. As mentioned above, we would still need the UDF function itself in the notebook, along with the jsdoc comments to define the input and output schema, but the UDF code can be a thin wrapper function, so lets start by refactoring and testing the current UDF to be a thin wrapper."
   ]
  },
  {
   "cell_type": "code",
   "execution_count": 1,
   "metadata": {
    "collapsed": true
   },
   "outputs": [],
   "source": [
    "%%bigquery udf -m extract_params\n",
    "\n",
    "/**\n",
    " * A helper function to split a set of URL query parameters into an object\n",
    " * as key/value properties.\n",
    " */\n",
    "function getParameters(path) {\n",
    "  var re = /[?&]([^=]*)=([^&]*)/g;\n",
    "  var result = {};\n",
    "  var match;\n",
    "  while ((match = re.exec(path)) != null) {\n",
    "    result[match[1]] = decodeURIComponent(match[2]);\n",
    "  }\n",
    "  return result;  \n",
    "}\n",
    "\n",
    "/**\n",
    " * The main part of the original UDF is now factored out into \n",
    " * this function.\n",
    " */\n",
    "function extractParams(r, emitFn) {\n",
    "  var q = getParameters(r.path);\n",
    "  var split = r.path.indexOf('?');\n",
    "  r.event = r.path.substr(5, split - 5);\n",
    "  r.project = q.project;\n",
    "  r.instance = q.instance;\n",
    "  r.user = q.user;\n",
    "  r.page = q.page;\n",
    "  r.path = q.path;\n",
    "  r.version = q.version;\n",
    "  r.release = q.release;\n",
    "  emitFn(r);\n",
    "}\n",
    "\n",
    "/**\n",
    " * Our thin wrapper UDF function, which needs the jsdoc schema \n",
    " * definition comments:\n",
    " *\n",
    " * @param {{timestamp: timestamp, method: string, status: integer, latency: float,\n",
    " *     path: string}} r\n",
    " * @param function({{timestamp: timestamp, method: string, status:integer, latency: float,\n",
    " *      path: string, event: string, project: string, instance: string, user: string,\n",
    " *      page: string, version: string, release: string}}) emitFn\n",
    " */\n",
    "function(r, emitFn) {\n",
    "  extractParams(r, emitFn);\n",
    "}\n"
   ]
  },
  {
   "cell_type": "code",
   "execution_count": 2,
   "metadata": {
    "collapsed": false
   },
   "outputs": [
    {
     "data": {
      "text/html": [
       "\n",
       "    <div class=\"bqtv\" id=\"1_144832760838\"><table><tr><th>timestamp</th><th>method</th><th>status</th><th>latency</th><th>path</th><th>event</th><th>project</th><th>instance</th><th>user</th><th>page</th><th>version</th><th>release</th></tr><tr><td>2015-10-27 01:03:10.959946</td><td>POST</td><td>204</td><td>0.003195</td><td>38</td><td>page</td><td>36</td><td>40</td><td>131</td><td>detail</td><td>0.1.1</td><td>alpha</td></tr><tr><td>2015-10-27 00:57:44.694484</td><td>POST</td><td>204</td><td>0.003418</td><td>3</td><td>start</td><td>143</td><td>215</td><td>2</td><td>master</td><td>0.1.1</td><td>alpha</td></tr><tr><td>2015-10-27 22:00:47.660171</td><td>POST</td><td>204</td><td>0.00337</td><td>3</td><td>signin</td><td>5</td><td>2</td><td>54</td><td>master</td><td>0.1.1</td><td>alpha</td></tr><tr><td>2015-10-27 20:10:19.547390</td><td>POST</td><td>204</td><td>0.00368</td><td>3</td><td>start</td><td>149</td><td>232</td><td>2</td><td>master</td><td>0.1.1</td><td>alpha</td></tr><tr><td>2015-10-27 01:24:18.065954</td><td>POST</td><td>204</td><td>0.003023</td><td>6</td><td>page</td><td>20</td><td>29</td><td>42</td><td>detail</td><td>0.1.1</td><td>alpha</td></tr></table></div>\n",
       "    <br />(rows: 5, time: 1.7s,     0B processed, job: job_IXN6DH5YKAEz1TUApBNraHIN3LU)<br />\n",
       "    <script>\n",
       "      require(['extensions/charting', 'element!1_144832760838', 'style!/static/extensions/charting.css'],\n",
       "        function(charts, dom) {\n",
       "          charts.render(dom,\n",
       "            {\n",
       "              chartStyle:\"table\",\n",
       "              dataName:\"0\",\n",
       "              fields:\"timestamp,method,status,latency,path,event,project,instance,user,page,version,release\",\n",
       "              totalRows:5,\n",
       "              rowsPerPage:25,\n",
       "            }, {}, {\"rows\": [{\"c\": [{\"v\": \"2015-10-27T01:03:10.959946\"}, {\"v\": \"POST\"}, {\"v\": 204}, {\"v\": 0.003195}, {\"v\": \"38\"}, {\"v\": \"page\"}, {\"v\": \"36\"}, {\"v\": \"40\"}, {\"v\": \"131\"}, {\"v\": \"detail\"}, {\"v\": \"0.1.1\"}, {\"v\": \"alpha\"}]}, {\"c\": [{\"v\": \"2015-10-27T00:57:44.694484\"}, {\"v\": \"POST\"}, {\"v\": 204}, {\"v\": 0.003418}, {\"v\": \"3\"}, {\"v\": \"start\"}, {\"v\": \"143\"}, {\"v\": \"215\"}, {\"v\": \"2\"}, {\"v\": \"master\"}, {\"v\": \"0.1.1\"}, {\"v\": \"alpha\"}]}, {\"c\": [{\"v\": \"2015-10-27T22:00:47.660171\"}, {\"v\": \"POST\"}, {\"v\": 204}, {\"v\": 0.00337}, {\"v\": \"3\"}, {\"v\": \"signin\"}, {\"v\": \"5\"}, {\"v\": \"2\"}, {\"v\": \"54\"}, {\"v\": \"master\"}, {\"v\": \"0.1.1\"}, {\"v\": \"alpha\"}]}, {\"c\": [{\"v\": \"2015-10-27T20:10:19.547390\"}, {\"v\": \"POST\"}, {\"v\": 204}, {\"v\": 0.00368}, {\"v\": \"3\"}, {\"v\": \"start\"}, {\"v\": \"149\"}, {\"v\": \"232\"}, {\"v\": \"2\"}, {\"v\": \"master\"}, {\"v\": \"0.1.1\"}, {\"v\": \"alpha\"}]}, {\"c\": [{\"v\": \"2015-10-27T01:24:18.065954\"}, {\"v\": \"POST\"}, {\"v\": 204}, {\"v\": 0.003023}, {\"v\": \"6\"}, {\"v\": \"page\"}, {\"v\": \"20\"}, {\"v\": \"29\"}, {\"v\": \"42\"}, {\"v\": \"detail\"}, {\"v\": \"0.1.1\"}, {\"v\": \"alpha\"}]}], \"cols\": [{\"type\": \"datetime\", \"id\": \"timestamp\", \"label\": \"timestamp\"}, {\"type\": \"string\", \"id\": \"method\", \"label\": \"method\"}, {\"type\": \"number\", \"id\": \"status\", \"label\": \"status\"}, {\"type\": \"number\", \"id\": \"latency\", \"label\": \"latency\"}, {\"type\": \"string\", \"id\": \"path\", \"label\": \"path\"}, {\"type\": \"string\", \"id\": \"event\", \"label\": \"event\"}, {\"type\": \"string\", \"id\": \"project\", \"label\": \"project\"}, {\"type\": \"string\", \"id\": \"instance\", \"label\": \"instance\"}, {\"type\": \"string\", \"id\": \"user\", \"label\": \"user\"}, {\"type\": \"string\", \"id\": \"page\", \"label\": \"page\"}, {\"type\": \"string\", \"id\": \"version\", \"label\": \"version\"}, {\"type\": \"string\", \"id\": \"release\", \"label\": \"release\"}]});\n",
       "        }\n",
       "      );\n",
       "    </script>\n",
       "  "
      ],
      "text/plain": [
       "QueryResultsTable job_IXN6DH5YKAEz1TUApBNraHIN3LU"
      ]
     },
     "execution_count": 2,
     "metadata": {},
     "output_type": "execute_result"
    }
   ],
   "source": [
    "%%sql \n",
    "\n",
    "SELECT * FROM extract_params([cloud-datalab-samples:appenginelogs.sample_logs_20151027])\n",
    "LIMIT 5"
   ]
  },
  {
   "cell_type": "markdown",
   "metadata": {},
   "source": [
    "## Moving the Code to GCS\n",
    "\n",
    "Now we have this tested, we want to create a file in GCS to hold the bulk of the code. We can do that in the notebook. The actual name of the bucket will be project-dependent so you will need to execute this code yourself."
   ]
  },
  {
   "cell_type": "code",
   "execution_count": null,
   "metadata": {
    "collapsed": false
   },
   "outputs": [],
   "source": [
    "import gcp\n",
    "import gcp.storage as gs\n",
    "\n",
    "code = \"\"\"\n",
    "/**\n",
    " * A helper function to split a set of URL query parameters into an object\n",
    " * as key/value properties.\n",
    " */\n",
    "function getParameters(path) {\n",
    "  var re = /[?&]([^=]*)=([^&]*)/g;\n",
    "  var result = {};\n",
    "  var match;\n",
    "  while ((match = re.exec(path)) != null) {\n",
    "    result[match[1]] = decodeURIComponent(match[2]);\n",
    "  }\n",
    "  return result;  \n",
    "}\n",
    "\n",
    "function extractParams(r, emitFn) {\n",
    "  var q = getParameters(r.path);\n",
    "  var split = r.path.indexOf('?');\n",
    "  r.event = r.path.substr(5, split - 5);\n",
    "  r.project = q.project;\n",
    "  r.instance = q.instance;\n",
    "  r.user = q.user;\n",
    "  r.page = q.page;\n",
    "  r.path = q.path;\n",
    "  r.version = q.version;\n",
    "  r.release = q.release;\n",
    "  emitFn(r);\n",
    "}\n",
    "\"\"\"\n",
    "\n",
    "# Get a bucket in the current project\n",
    "project = gcp.Context.default().project_id\n",
    "sample_bucket_name = project + '-datalab-udf-samples'\n",
    "\n",
    "# Create the storage bucket and code library object\n",
    "sample_bucket = gs.Bucket(sample_bucket_name)\n",
    "sample_bucket.create()\n",
    "sample_item = sample_bucket.item('udf_library.js')\n",
    "sample_item.write_to(code, 'application/javascript')\n",
    "\n",
    "# Print the URI of the library object to use in @import\n",
    "print sample_item.uri"
   ]
  },
  {
   "cell_type": "markdown",
   "metadata": {},
   "source": [
    "Once the code has been copied to GCS, we can refer to it in the UDF jsdoc comment header using @import. You can have more than one @import if needed. Note that in the cell below you will need to change the @import to refer to your project before it will work. You can use the URI output from the cell above as the argument to @import."
   ]
  },
  {
   "cell_type": "code",
   "execution_count": 7,
   "metadata": {
    "collapsed": false
   },
   "outputs": [],
   "source": [
    "%%bigquery udf -m externalized_udf\n",
    "\n",
    "/**\n",
    " * The next line is to import the code from GCS. You will need to replace the library\n",
    " * name with your project.\n",
    " *\n",
    " * @import gs://YOUR-PROJECT-NAME-HERE-datalab-udf-samples/udf_library.js\n",
    " * @param {{timestamp: timestamp, method: string, status: integer, latency: float,\n",
    " *     path: string}} r\n",
    " * @param function({{timestamp: timestamp, method: string, status:integer, latency: float,\n",
    " *      path: string, event: string, project: string, instance: string, user: string,\n",
    " *      page: string, version: string, release: string}}) emitFn\n",
    " */\n",
    "function(r, emitFn) {\n",
    "  extractParams(r, emitFn);\n",
    "}"
   ]
  },
  {
   "cell_type": "markdown",
   "metadata": {},
   "source": [
    "And now we can test it:"
   ]
  },
  {
   "cell_type": "code",
   "execution_count": 5,
   "metadata": {
    "collapsed": false
   },
   "outputs": [
    {
     "data": {
      "text/html": [
       "\n",
       "    <div class=\"bqtv\" id=\"2_144832761429\"><table><tr><th>timestamp</th><th>method</th><th>status</th><th>latency</th><th>path</th><th>event</th><th>project</th><th>instance</th><th>user</th><th>page</th><th>version</th><th>release</th></tr><tr><td>2015-10-27 01:03:10.959946</td><td>POST</td><td>204</td><td>0.003195</td><td>38</td><td>page</td><td>36</td><td>40</td><td>131</td><td>detail</td><td>0.1.1</td><td>alpha</td></tr><tr><td>2015-10-27 00:57:44.694484</td><td>POST</td><td>204</td><td>0.003418</td><td>3</td><td>start</td><td>143</td><td>215</td><td>2</td><td>master</td><td>0.1.1</td><td>alpha</td></tr><tr><td>2015-10-27 22:00:47.660171</td><td>POST</td><td>204</td><td>0.00337</td><td>3</td><td>signin</td><td>5</td><td>2</td><td>54</td><td>master</td><td>0.1.1</td><td>alpha</td></tr><tr><td>2015-10-27 20:10:19.547390</td><td>POST</td><td>204</td><td>0.00368</td><td>3</td><td>start</td><td>149</td><td>232</td><td>2</td><td>master</td><td>0.1.1</td><td>alpha</td></tr><tr><td>2015-10-27 01:24:18.065954</td><td>POST</td><td>204</td><td>0.003023</td><td>6</td><td>page</td><td>20</td><td>29</td><td>42</td><td>detail</td><td>0.1.1</td><td>alpha</td></tr></table></div>\n",
       "    <br />(rows: 5, time: 2.7s,     0B processed, job: job_i4GBAaiwMnDEBfNtuQSuTwrnfcY)<br />\n",
       "    <script>\n",
       "      require(['extensions/charting', 'element!2_144832761429', 'style!/static/extensions/charting.css'],\n",
       "        function(charts, dom) {\n",
       "          charts.render(dom,\n",
       "            {\n",
       "              chartStyle:\"table\",\n",
       "              dataName:\"1\",\n",
       "              fields:\"timestamp,method,status,latency,path,event,project,instance,user,page,version,release\",\n",
       "              totalRows:5,\n",
       "              rowsPerPage:25,\n",
       "            }, {}, {\"rows\": [{\"c\": [{\"v\": \"2015-10-27T01:03:10.959946\"}, {\"v\": \"POST\"}, {\"v\": 204}, {\"v\": 0.003195}, {\"v\": \"38\"}, {\"v\": \"page\"}, {\"v\": \"36\"}, {\"v\": \"40\"}, {\"v\": \"131\"}, {\"v\": \"detail\"}, {\"v\": \"0.1.1\"}, {\"v\": \"alpha\"}]}, {\"c\": [{\"v\": \"2015-10-27T00:57:44.694484\"}, {\"v\": \"POST\"}, {\"v\": 204}, {\"v\": 0.003418}, {\"v\": \"3\"}, {\"v\": \"start\"}, {\"v\": \"143\"}, {\"v\": \"215\"}, {\"v\": \"2\"}, {\"v\": \"master\"}, {\"v\": \"0.1.1\"}, {\"v\": \"alpha\"}]}, {\"c\": [{\"v\": \"2015-10-27T22:00:47.660171\"}, {\"v\": \"POST\"}, {\"v\": 204}, {\"v\": 0.00337}, {\"v\": \"3\"}, {\"v\": \"signin\"}, {\"v\": \"5\"}, {\"v\": \"2\"}, {\"v\": \"54\"}, {\"v\": \"master\"}, {\"v\": \"0.1.1\"}, {\"v\": \"alpha\"}]}, {\"c\": [{\"v\": \"2015-10-27T20:10:19.547390\"}, {\"v\": \"POST\"}, {\"v\": 204}, {\"v\": 0.00368}, {\"v\": \"3\"}, {\"v\": \"start\"}, {\"v\": \"149\"}, {\"v\": \"232\"}, {\"v\": \"2\"}, {\"v\": \"master\"}, {\"v\": \"0.1.1\"}, {\"v\": \"alpha\"}]}, {\"c\": [{\"v\": \"2015-10-27T01:24:18.065954\"}, {\"v\": \"POST\"}, {\"v\": 204}, {\"v\": 0.003023}, {\"v\": \"6\"}, {\"v\": \"page\"}, {\"v\": \"20\"}, {\"v\": \"29\"}, {\"v\": \"42\"}, {\"v\": \"detail\"}, {\"v\": \"0.1.1\"}, {\"v\": \"alpha\"}]}], \"cols\": [{\"type\": \"datetime\", \"id\": \"timestamp\", \"label\": \"timestamp\"}, {\"type\": \"string\", \"id\": \"method\", \"label\": \"method\"}, {\"type\": \"number\", \"id\": \"status\", \"label\": \"status\"}, {\"type\": \"number\", \"id\": \"latency\", \"label\": \"latency\"}, {\"type\": \"string\", \"id\": \"path\", \"label\": \"path\"}, {\"type\": \"string\", \"id\": \"event\", \"label\": \"event\"}, {\"type\": \"string\", \"id\": \"project\", \"label\": \"project\"}, {\"type\": \"string\", \"id\": \"instance\", \"label\": \"instance\"}, {\"type\": \"string\", \"id\": \"user\", \"label\": \"user\"}, {\"type\": \"string\", \"id\": \"page\", \"label\": \"page\"}, {\"type\": \"string\", \"id\": \"version\", \"label\": \"version\"}, {\"type\": \"string\", \"id\": \"release\", \"label\": \"release\"}]});\n",
       "        }\n",
       "      );\n",
       "    </script>\n",
       "  "
      ],
      "text/plain": [
       "QueryResultsTable job_i4GBAaiwMnDEBfNtuQSuTwrnfcY"
      ]
     },
     "execution_count": 5,
     "metadata": {},
     "output_type": "execute_result"
    }
   ],
   "source": [
    "%%sql \n",
    "\n",
    "SELECT * FROM externalized_udf([cloud-datalab-samples:appenginelogs.sample_logs_20151027])\n",
    "LIMIT 5"
   ]
  },
  {
   "cell_type": "markdown",
   "metadata": {},
   "source": [
    "## Cleaning Up\n",
    "\n",
    "As this is just a tutorial, we should clean up the objects we created in storage."
   ]
  },
  {
   "cell_type": "code",
   "execution_count": 6,
   "metadata": {
    "collapsed": true
   },
   "outputs": [],
   "source": [
    "sample_item.delete()\n",
    "sample_bucket.delete()"
   ]
  }
 ],
 "metadata": {
  "kernelspec": {
   "display_name": "Python 2",
   "language": "python",
   "name": "python2"
  },
  "language_info": {
   "codemirror_mode": {
    "name": "ipython",
    "version": 2
   },
   "file_extension": ".py",
   "mimetype": "text/x-python",
   "name": "python",
   "nbconvert_exporter": "python",
   "pygments_lexer": "ipython2",
   "version": "2.7.9"
  }
 },
 "nbformat": 4,
 "nbformat_minor": 0
}
