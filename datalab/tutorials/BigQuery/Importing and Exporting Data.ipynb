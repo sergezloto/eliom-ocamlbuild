{
 "cells": [
  {
   "cell_type": "markdown",
   "metadata": {},
   "source": [
    "# Importing and Exporting Data\n",
    "\n",
    "Data can be imported into BigQuery from a CSV file stored within Cloud Storage, or it can be streamed directly into BigQuery from Python code.\n",
    "\n",
    "Similarly, the results of a query can be exported to Cloud Storage as a set of shards, or they can be streamed directory into a file within Cloud Datalab. Note that for larger data sizes, it is recommended to choose the former."
   ]
  },
  {
   "cell_type": "code",
   "execution_count": 1,
   "metadata": {
    "collapsed": true
   },
   "outputs": [],
   "source": [
    "import gcp\n",
    "import gcp.bigquery as bq\n",
    "import gcp.storage as storage\n",
    "import pandas as pd\n",
    "from StringIO import StringIO"
   ]
  },
  {
   "cell_type": "markdown",
   "metadata": {},
   "source": [
    "# Importing Data\n",
    "\n",
    "The first step to analyzing and querying your data is importing it. For purposes of the demo, we'll create a temporary table, in a temporary dataset within BigQuery, using a small data file within Cloud Storage."
   ]
  },
  {
   "cell_type": "markdown",
   "metadata": {},
   "source": [
    "## Importing Data from Cloud Storage"
   ]
  },
  {
   "cell_type": "code",
   "execution_count": 2,
   "metadata": {
    "collapsed": false
   },
   "outputs": [],
   "source": [
    "%%storage read --object gs://cloud-datalab-samples/cars.csv --variable cars"
   ]
  },
  {
   "cell_type": "code",
   "execution_count": 3,
   "metadata": {
    "collapsed": false
   },
   "outputs": [
    {
     "name": "stdout",
     "output_type": "stream",
     "text": [
      "Year,Make,Model,Description,Price\n",
      "1997,Ford,E350,\"ac, abs, moon\",3000.00\n",
      "1999,Chevy,\"Venture Extended Edition\",\"\",4900.00\n",
      "1999,Chevy,\"Venture Extended Edition\",Very Large,5000.00\n",
      "1996,Jeep,Grand Cherokee,\"MUST SELL! air, moon roof, loaded\",4799.00\n",
      "\n"
     ]
    }
   ],
   "source": [
    "print cars"
   ]
  },
  {
   "cell_type": "code",
   "execution_count": 4,
   "metadata": {
    "collapsed": false
   },
   "outputs": [],
   "source": [
    "# Create the schema, using the convenience of basing it on example DataFrame\n",
    "df = pd.read_csv(StringIO(cars))\n",
    "schema = bq.Schema.from_dataframe(df)\n",
    "\n",
    "# Create the dataset\n",
    "bq.DataSet('sample').create()\n",
    "\n",
    "# Create the table\n",
    "sample_table = bq.Table('sample.cars').create(schema = schema, overwrite = True)"
   ]
  },
  {
   "cell_type": "code",
   "execution_count": 5,
   "metadata": {
    "collapsed": false
   },
   "outputs": [
    {
     "data": {
      "text/plain": [
       "Job job_d8d8Gs_Yt0basjb1u3lOUDH3wGo"
      ]
     },
     "execution_count": 5,
     "metadata": {},
     "output_type": "execute_result"
    }
   ],
   "source": [
    "sample_table.load('gs://cloud-datalab-samples/cars.csv', mode='append',\n",
    "                  source_format = 'csv', csv_options=bq.CSVOptions(skip_leading_rows = 1))"
   ]
  },
  {
   "cell_type": "code",
   "execution_count": 6,
   "metadata": {
    "collapsed": false
   },
   "outputs": [
    {
     "data": {
      "text/html": [
       "\n",
       "    <div class=\"bqtv\" id=\"1_145495977182\"><table><tr><th>Year</th><th>Make</th><th>Model</th><th>Description</th><th>Price</th></tr><tr><td>1997</td><td>Ford</td><td>E350</td><td>ac, abs, moon</td><td>3000.0</td></tr><tr><td>1999</td><td>Chevy</td><td>Venture Extended Edition</td><td></td><td>4900.0</td></tr><tr><td>1999</td><td>Chevy</td><td>Venture Extended Edition</td><td>Very Large</td><td>5000.0</td></tr><tr><td>1996</td><td>Jeep</td><td>Grand Cherokee</td><td>MUST SELL! air, moon roof, loaded</td><td>4799.0</td></tr></table></div>\n",
       "    <br />(rows: 4, time: 2.1s,   228B processed, job: job_XDq3pFGT8XLnIq1ARy7cCs6TdSk)<br />\n",
       "    <script>\n",
       "      require(['extensions/charting', 'element!1_145495977182', 'style!/static/extensions/charting.css'],\n",
       "        function(charts, dom) {\n",
       "          charts.render(dom,\n",
       "            {\n",
       "              chartStyle:\"table\",\n",
       "              dataName:\"0\",\n",
       "              fields:\"Year,Make,Model,Description,Price\",\n",
       "              totalRows:4,\n",
       "              rowsPerPage:25,\n",
       "            }, {}, {\"rows\": [{\"c\": [{\"v\": 1997}, {\"v\": \"Ford\"}, {\"v\": \"E350\"}, {\"v\": \"ac, abs, moon\"}, {\"v\": 3000.0}]}, {\"c\": [{\"v\": 1999}, {\"v\": \"Chevy\"}, {\"v\": \"Venture Extended Edition\"}, {\"v\": \"\"}, {\"v\": 4900.0}]}, {\"c\": [{\"v\": 1999}, {\"v\": \"Chevy\"}, {\"v\": \"Venture Extended Edition\"}, {\"v\": \"Very Large\"}, {\"v\": 5000.0}]}, {\"c\": [{\"v\": 1996}, {\"v\": \"Jeep\"}, {\"v\": \"Grand Cherokee\"}, {\"v\": \"MUST SELL! air, moon roof, loaded\"}, {\"v\": 4799.0}]}], \"cols\": [{\"type\": \"number\", \"id\": \"Year\", \"label\": \"Year\"}, {\"type\": \"string\", \"id\": \"Make\", \"label\": \"Make\"}, {\"type\": \"string\", \"id\": \"Model\", \"label\": \"Model\"}, {\"type\": \"string\", \"id\": \"Description\", \"label\": \"Description\"}, {\"type\": \"number\", \"id\": \"Price\", \"label\": \"Price\"}]});\n",
       "        }\n",
       "      );\n",
       "    </script>\n",
       "  "
      ],
      "text/plain": [
       "QueryResultsTable job_XDq3pFGT8XLnIq1ARy7cCs6TdSk"
      ]
     },
     "execution_count": 6,
     "metadata": {},
     "output_type": "execute_result"
    }
   ],
   "source": [
    "%%sql\n",
    "SELECT * FROM sample.cars"
   ]
  },
  {
   "cell_type": "markdown",
   "metadata": {},
   "source": [
    "## Importing Data from a DataFrame"
   ]
  },
  {
   "cell_type": "code",
   "execution_count": 7,
   "metadata": {
    "collapsed": false
   },
   "outputs": [
    {
     "data": {
      "text/html": [
       "<div>\n",
       "<table border=\"1\" class=\"dataframe\">\n",
       "  <thead>\n",
       "    <tr style=\"text-align: right;\">\n",
       "      <th></th>\n",
       "      <th>Year</th>\n",
       "      <th>Make</th>\n",
       "      <th>Model</th>\n",
       "      <th>Description</th>\n",
       "      <th>Price</th>\n",
       "    </tr>\n",
       "  </thead>\n",
       "  <tbody>\n",
       "    <tr>\n",
       "      <th>0</th>\n",
       "      <td>2010</td>\n",
       "      <td>Honda</td>\n",
       "      <td>Civic</td>\n",
       "      <td>NaN</td>\n",
       "      <td>15000</td>\n",
       "    </tr>\n",
       "    <tr>\n",
       "      <th>1</th>\n",
       "      <td>2015</td>\n",
       "      <td>Tesla</td>\n",
       "      <td>Model S</td>\n",
       "      <td>NaN</td>\n",
       "      <td>64900</td>\n",
       "    </tr>\n",
       "  </tbody>\n",
       "</table>\n",
       "</div>"
      ],
      "text/plain": [
       "   Year   Make    Model  Description  Price\n",
       "0  2010  Honda    Civic          NaN  15000\n",
       "1  2015  Tesla  Model S          NaN  64900"
      ]
     },
     "execution_count": 7,
     "metadata": {},
     "output_type": "execute_result"
    }
   ],
   "source": [
    "cars2 = storage.Item('cloud-datalab-samples', 'cars2.csv').read_from()\n",
    "df2 = pd.read_csv(StringIO(cars2))\n",
    "df2"
   ]
  },
  {
   "cell_type": "code",
   "execution_count": 8,
   "metadata": {
    "collapsed": false
   },
   "outputs": [
    {
     "data": {
      "text/html": [
       "<div>\n",
       "<table border=\"1\" class=\"dataframe\">\n",
       "  <thead>\n",
       "    <tr style=\"text-align: right;\">\n",
       "      <th></th>\n",
       "      <th>Year</th>\n",
       "      <th>Make</th>\n",
       "      <th>Model</th>\n",
       "      <th>Description</th>\n",
       "      <th>Price</th>\n",
       "    </tr>\n",
       "  </thead>\n",
       "  <tbody>\n",
       "    <tr>\n",
       "      <th>0</th>\n",
       "      <td>2010</td>\n",
       "      <td>Honda</td>\n",
       "      <td>Civic</td>\n",
       "      <td></td>\n",
       "      <td>15000</td>\n",
       "    </tr>\n",
       "    <tr>\n",
       "      <th>1</th>\n",
       "      <td>2015</td>\n",
       "      <td>Tesla</td>\n",
       "      <td>Model S</td>\n",
       "      <td></td>\n",
       "      <td>64900</td>\n",
       "    </tr>\n",
       "  </tbody>\n",
       "</table>\n",
       "</div>"
      ],
      "text/plain": [
       "   Year   Make    Model Description  Price\n",
       "0  2010  Honda    Civic              15000\n",
       "1  2015  Tesla  Model S              64900"
      ]
     },
     "execution_count": 8,
     "metadata": {},
     "output_type": "execute_result"
    }
   ],
   "source": [
    "df2.fillna(value='', inplace=True)\n",
    "df2"
   ]
  },
  {
   "cell_type": "code",
   "execution_count": 9,
   "metadata": {
    "collapsed": false
   },
   "outputs": [
    {
     "data": {
      "text/html": [
       "<div>\n",
       "<table border=\"1\" class=\"dataframe\">\n",
       "  <thead>\n",
       "    <tr style=\"text-align: right;\">\n",
       "      <th></th>\n",
       "      <th>Year</th>\n",
       "      <th>Make</th>\n",
       "      <th>Model</th>\n",
       "      <th>Description</th>\n",
       "      <th>Price</th>\n",
       "    </tr>\n",
       "  </thead>\n",
       "  <tbody>\n",
       "    <tr>\n",
       "      <th>0</th>\n",
       "      <td>1997</td>\n",
       "      <td>Ford</td>\n",
       "      <td>E350</td>\n",
       "      <td>ac, abs, moon</td>\n",
       "      <td>3000</td>\n",
       "    </tr>\n",
       "    <tr>\n",
       "      <th>1</th>\n",
       "      <td>1999</td>\n",
       "      <td>Chevy</td>\n",
       "      <td>Venture Extended Edition</td>\n",
       "      <td></td>\n",
       "      <td>4900</td>\n",
       "    </tr>\n",
       "    <tr>\n",
       "      <th>2</th>\n",
       "      <td>1999</td>\n",
       "      <td>Chevy</td>\n",
       "      <td>Venture Extended Edition</td>\n",
       "      <td>Very Large</td>\n",
       "      <td>5000</td>\n",
       "    </tr>\n",
       "    <tr>\n",
       "      <th>3</th>\n",
       "      <td>1996</td>\n",
       "      <td>Jeep</td>\n",
       "      <td>Grand Cherokee</td>\n",
       "      <td>MUST SELL! air, moon roof, loaded</td>\n",
       "      <td>4799</td>\n",
       "    </tr>\n",
       "    <tr>\n",
       "      <th>4</th>\n",
       "      <td>2015</td>\n",
       "      <td>Tesla</td>\n",
       "      <td>Model S</td>\n",
       "      <td></td>\n",
       "      <td>64900</td>\n",
       "    </tr>\n",
       "    <tr>\n",
       "      <th>5</th>\n",
       "      <td>2010</td>\n",
       "      <td>Honda</td>\n",
       "      <td>Civic</td>\n",
       "      <td></td>\n",
       "      <td>15000</td>\n",
       "    </tr>\n",
       "  </tbody>\n",
       "</table>\n",
       "</div>"
      ],
      "text/plain": [
       "   Year   Make                     Model                        Description  \\\n",
       "0  1997   Ford                      E350                      ac, abs, moon   \n",
       "1  1999  Chevy  Venture Extended Edition                                      \n",
       "2  1999  Chevy  Venture Extended Edition                         Very Large   \n",
       "3  1996   Jeep            Grand Cherokee  MUST SELL! air, moon roof, loaded   \n",
       "4  2015  Tesla                   Model S                                      \n",
       "5  2010  Honda                     Civic                                      \n",
       "\n",
       "   Price  \n",
       "0   3000  \n",
       "1   4900  \n",
       "2   5000  \n",
       "3   4799  \n",
       "4  64900  \n",
       "5  15000  "
      ]
     },
     "execution_count": 9,
     "metadata": {},
     "output_type": "execute_result"
    }
   ],
   "source": [
    "sample_table.insert_data(df2)\n",
    "sample_table.to_dataframe()"
   ]
  },
  {
   "cell_type": "markdown",
   "metadata": {},
   "source": [
    "# Exporting Data"
   ]
  },
  {
   "cell_type": "markdown",
   "metadata": {},
   "source": [
    "## Exporting Data to Cloud Storage"
   ]
  },
  {
   "cell_type": "code",
   "execution_count": 10,
   "metadata": {
    "collapsed": false
   },
   "outputs": [
    {
     "name": "stdout",
     "output_type": "stream",
     "text": [
      "Bucket: cloud-ml-users-datalab-sample-import-export\n",
      "Object: gs://cloud-ml-users-datalab-sample-import-export/tmp/cars.csv\n"
     ]
    }
   ],
   "source": [
    "project = gcp.Context.default().project_id\n",
    "sample_bucket_name = project + '-datalab-sample-import-export'\n",
    "sample_bucket_path = 'gs://' + sample_bucket_name\n",
    "sample_bucket_object = sample_bucket_path + '/tmp/cars.csv'\n",
    "print 'Bucket: ' + sample_bucket_name\n",
    "print 'Object: ' + sample_bucket_object"
   ]
  },
  {
   "cell_type": "code",
   "execution_count": 11,
   "metadata": {
    "collapsed": false
   },
   "outputs": [
    {
     "data": {
      "text/plain": [
       "True"
      ]
     },
     "execution_count": 11,
     "metadata": {},
     "output_type": "execute_result"
    }
   ],
   "source": [
    "sample_bucket = storage.Bucket(sample_bucket_name)\n",
    "sample_bucket.create()\n",
    "sample_bucket.exists()"
   ]
  },
  {
   "cell_type": "code",
   "execution_count": 12,
   "metadata": {
    "collapsed": false
   },
   "outputs": [
    {
     "data": {
      "text/plain": [
       "Job job_ujePom37OnPnkeW13Ja_dAq64QQ"
      ]
     },
     "execution_count": 12,
     "metadata": {},
     "output_type": "execute_result"
    }
   ],
   "source": [
    "table = bq.Table('sample.cars')\n",
    "table.extract(destination = sample_bucket_object)"
   ]
  },
  {
   "cell_type": "code",
   "execution_count": 13,
   "metadata": {
    "collapsed": false
   },
   "outputs": [
    {
     "data": {
      "text/html": [
       "<table><tr><th>Name</th><th>Type</th><th>Size</th><th>Updated</th></tr><tr><td>tmp/cars.csv</td><td>application/octet-stream</td><td>230</td><td>2016-02-08 19:30:08.443000+00:00</td></tr></table>"
      ],
      "text/plain": [
       "<IPython.core.display.HTML object>"
      ]
     },
     "execution_count": 13,
     "metadata": {},
     "output_type": "execute_result"
    }
   ],
   "source": [
    "%%storage list --bucket $sample_bucket_path"
   ]
  },
  {
   "cell_type": "code",
   "execution_count": 14,
   "metadata": {
    "collapsed": false
   },
   "outputs": [],
   "source": [
    "%%storage read --object $sample_bucket_object --variable data"
   ]
  },
  {
   "cell_type": "code",
   "execution_count": 15,
   "metadata": {
    "collapsed": false
   },
   "outputs": [
    {
     "name": "stdout",
     "output_type": "stream",
     "text": [
      "Year,Make,Model,Description,Price\n",
      "1997,Ford,E350,\"ac, abs, moon\",3000\n",
      "1999,Chevy,Venture Extended Edition,,4900\n",
      "1999,Chevy,Venture Extended Edition,Very Large,5000\n",
      "1996,Jeep,Grand Cherokee,\"MUST SELL! air, moon roof, loaded\",4799\n",
      "\n"
     ]
    }
   ],
   "source": [
    "print data"
   ]
  },
  {
   "cell_type": "markdown",
   "metadata": {},
   "source": [
    "## Exporting Data to a Local File"
   ]
  },
  {
   "cell_type": "code",
   "execution_count": 16,
   "metadata": {
    "collapsed": true
   },
   "outputs": [],
   "source": [
    "table.to_file('/tmp/cars.csv')"
   ]
  },
  {
   "cell_type": "code",
   "execution_count": 17,
   "metadata": {
    "collapsed": false
   },
   "outputs": [
    {
     "name": "stdout",
     "output_type": "stream",
     "text": [
      "-rw-r--r-- 1 root root 299 Feb  8 19:30 /tmp/cars.csv\n"
     ]
    }
   ],
   "source": [
    "%%bash\n",
    "ls -l /tmp/cars.csv"
   ]
  },
  {
   "cell_type": "code",
   "execution_count": 18,
   "metadata": {
    "collapsed": false
   },
   "outputs": [
    {
     "name": "stdout",
     "output_type": "stream",
     "text": [
      "Year,Make,Model,Description,Price\r\n",
      "1997,Ford,E350,\"ac, abs, moon\",3000.0\r\n",
      "1999,Chevy,Venture Extended Edition,,4900.0\r\n",
      "1999,Chevy,Venture Extended Edition,Very Large,5000.0\r\n",
      "1996,Jeep,Grand Cherokee,\"MUST SELL! air, moon roof, loaded\",4799.0\r\n",
      "2015,Tesla,Model S,,64900.0\r\n",
      "2010,Honda,Civic,,15000.0\r\n",
      "\n"
     ]
    }
   ],
   "source": [
    "lines = None\n",
    "with open('/tmp/cars.csv') as datafile:\n",
    "  lines = datafile.readlines()\n",
    "print ''.join(lines)"
   ]
  },
  {
   "cell_type": "markdown",
   "metadata": {},
   "source": [
    "# Cleanup"
   ]
  },
  {
   "cell_type": "code",
   "execution_count": 19,
   "metadata": {
    "collapsed": false
   },
   "outputs": [],
   "source": [
    "sample_bucket.item('tmp/cars.csv').delete()\n",
    "sample_bucket.delete()\n",
    "bq.DataSet('sample').delete(delete_contents = True)"
   ]
  }
 ],
 "metadata": {
  "kernelspec": {
   "display_name": "Python 2",
   "language": "python",
   "name": "python2"
  },
  "language_info": {
   "codemirror_mode": {
    "name": "ipython",
    "version": 2
   },
   "file_extension": ".py",
   "mimetype": "text/x-python",
   "name": "python",
   "nbconvert_exporter": "python",
   "pygments_lexer": "ipython2",
   "version": "2.7.9"
  }
 },
 "nbformat": 4,
 "nbformat_minor": 0
}
