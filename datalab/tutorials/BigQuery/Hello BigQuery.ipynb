{
 "cells": [
  {
   "cell_type": "markdown",
   "metadata": {},
   "source": [
    "# Hello BigQuery\n",
    "\n",
    "[BigQuery](https://cloud.google.com/bigquery) is a fast, economical and fully managed data warehouse for large-scale data analytics. You can use BigQuery and SQL to focus on transforming your data and using it for insights."
   ]
  },
  {
   "cell_type": "markdown",
   "metadata": {},
   "source": [
    "This query works against the Wikipedia sample dataset within BigQuery. Select and execute to see the top 10 articles, based on # of revisions."
   ]
  },
  {
   "cell_type": "code",
   "execution_count": null,
   "metadata": {
    "collapsed": false
   },
   "outputs": [],
   "source": [
    "%%sql\n",
    "SELECT TOP(title, 10) as title, COUNT(*) as revisions\n",
    "FROM [publicdata:samples.wikipedia]\n",
    "WHERE wp_namespace = 0"
   ]
  },
  {
   "cell_type": "markdown",
   "metadata": {},
   "source": [
    "----\n",
    "\n",
    "If you're a BigQuery user, you've likely used the BigQuery console. Like the console, Cloud Datalab makes it simple to issue a SQL query, and see the results.\n",
    "\n",
    "As the other notebooks in the tutorials and samples will illustrate, with Cloud Datalab, you can go the next step - issue multiple queries, visualize the data beyond tables, and ultimately build sophisticated pipelines to use your data to fullest extent possible, with productivity.\n",
    "\n",
    "One additional link - the [BigQuery SQL reference](https://cloud.google.com/bigquery/query-reference). This is also accessible at any time using the Help menu on the toolbar on the top of the page."
   ]
  }
 ],
 "metadata": {
  "kernelspec": {
   "display_name": "Python 2",
   "language": "python",
   "name": "python2"
  },
  "language_info": {
   "codemirror_mode": {
    "name": "ipython",
    "version": 2
   },
   "file_extension": ".py",
   "mimetype": "text/x-python",
   "name": "python",
   "nbconvert_exporter": "python",
   "pygments_lexer": "ipython2",
   "version": "2.7.9"
  }
 },
 "nbformat": 4,
 "nbformat_minor": 0
}
